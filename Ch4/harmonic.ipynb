{
 "cells": [
  {
   "cell_type": "code",
   "execution_count": 1,
   "metadata": {},
   "outputs": [],
   "source": [
    "import numpy as np\n",
    "import matplotlib.pyplot as plt\n",
    "from nm4p import rk4"
   ]
  },
  {
   "cell_type": "code",
   "execution_count": 7,
   "metadata": {},
   "outputs": [
    {
     "name": "stdout",
     "output_type": "stream",
     "text": [
      "[[3.]\n",
      " [6.]\n",
      " [8.]]\n"
     ]
    }
   ],
   "source": [
    "### Solve the coupled harmonic oscillator problem\n",
    "\n",
    "# Spring constants\n",
    "k1 = 1\n",
    "k2 = 1\n",
    "k3 = 1\n",
    "k4 = 1\n",
    "\n",
    "# Spring rest lengths\n",
    "L1 = 2\n",
    "L2 = 2\n",
    "L3 = 1\n",
    "L4 = 1\n",
    "\n",
    "# Total length of system\n",
    "Lw = 10\n",
    "\n",
    "K = np.array([[-k1 - k2, k2, 0.],\n",
    "\t\t\t   [k2, -k2 - k3, k3],\n",
    "\t\t\t   [0., k3, -k3 - k4]])\n",
    "\n",
    "b = np.array([[-k1 * L1 + k2 * L2],\n",
    "\t\t\t  [-k2 * L2 + k3 * L3],\n",
    "\t\t\t  [-k3 * L3 - (Lw - L4) * k4]])\n",
    "\n",
    "# Finding the rest lengths means setting F = 0\n",
    "\n",
    "F = np.array([[0.], [0.], [0.]])\n",
    "\n",
    "LHS = F + b\n",
    "disp = np.linalg.solve(K, LHS)\n",
    "print(disp)\n",
    "\n",
    "# Initial system conditions\n",
    "x1_0 = disp[0] + 0.5\n",
    "x2_0 = disp[1] \n",
    "x3_0 = disp[2]\n",
    "v1_0 = 0.\n",
    "v2_0 = 0.\n",
    "v3_0 = 0.\n",
    "m1 = 0.1\n",
    "m2 = 0.1\n",
    "m3 = 0.1\n",
    "\n",
    "# Other system parameters\n",
    "tau = 0.05\n",
    "time = 0.\n",
    "nsteps = 100\n",
    "params = np.array([k1, k2, k3, k4, L1, L2, L3, L4, Lw, m1, m2, m3])\n",
    "state = np.array([x1_0, x2_0, x3_0, v1_0, v2_0, v3_0])\n",
    "xplot = np.empty((3, nsteps))\n",
    "tplot = np.empty(nsteps)\n",
    "\n",
    "for i in range(nsteps):\n",
    "\txplot[0, i] = state[0]\n",
    "\txplot[1, i] = state[1]\n",
    "\txplot[2, i] = state[2]\n",
    "\ttplot[i] = time\n",
    "\tstate = rk4(state, time, tau, params)\n",
    "\ttime += tau"
   ]
  },
  {
   "cell_type": "code",
   "execution_count": 8,
   "metadata": {},
   "outputs": [
    {
     "data": {
      "image/png": "[encoded data removed]",
      "text/plain": [
       "<Figure size 432x288 with 1 Axes>"
      ]
     },
     "metadata": {
      "needs_background": "light"
     },
     "output_type": "display_data"
    }
   ],
   "source": [
    "plt.plot(tplot, xplot[0, :], 'b-', label='mass 1 position')\n",
    "plt.plot(tplot, xplot[1, :], 'g--', label='mass 2 position')\n",
    "plt.plot(tplot, xplot[2, :], 'r-.', label='mass 3 position')\n",
    "plt.hlines(disp[0], tplot[0], tplot[-1], 'k', '--')\n",
    "plt.hlines(disp[1], tplot[0], tplot[-1], 'k', '--')\n",
    "plt.hlines(disp[2], tplot[0], tplot[-1], 'k', '--')\n",
    "plt.legend()\n",
    "plt.show()"
   ]
  },
  {
   "cell_type": "code",
   "execution_count": 9,
   "metadata": {},
   "outputs": [
    {
     "data": {
      "text/plain": [
       "array([3.5       , 3.4875651 , 3.45103409, 3.3926696 , 3.31606774,\n",
       "       3.22590941, 3.12763846, 3.02709046, 2.93009917, 2.84210967,\n",
       "       2.7678256 , 2.71091577, 2.67379996, 2.65752791, 2.66175804,\n",
       "       2.68483483, 2.72395651, 2.77541796, 2.83490856, 2.89784102,\n",
       "       2.95968568, 3.01628507, 3.06412607, 3.10055077, 3.12389312,\n",
       "       3.13353414, 3.12987583, 3.11423982, 3.08870295, 3.05588626,\n",
       "       3.01871704, 2.98018478, 2.94311128, 2.90995305, 2.88265047,\n",
       "       2.86253313, 2.85028566, 2.84597249, 2.84911501, 2.85880974,\n",
       "       2.87387337, 2.89299826, 2.91490196, 2.93845568, 2.96277921,\n",
       "       2.9872938 , 3.01172919, 3.0360856 , 3.0605568 , 3.08542399,\n",
       "       3.1109337 , 3.1371747 , 3.16396924, 3.19079255, 3.21673235,\n",
       "       3.24049576, 3.26046673, 3.27481172, 3.2816265 , 3.27911215,\n",
       "       3.26576507, 3.24056318, 3.20313018, 3.15386039, 3.09398947,\n",
       "       3.02560035, 2.95155892, 2.87537974, 2.80102849, 2.73267328,\n",
       "       2.67440219, 2.6299279 , 2.60230244, 2.59366519, 2.60504565,\n",
       "       2.63623879, 2.68576573, 2.75092633, 2.82794281, 2.91218692,\n",
       "       2.99847585, 3.08141687, 3.15577599, 3.21684374, 3.26077081,\n",
       "       3.28484804, 3.28770892, 3.26943863, 3.23158024, 3.17703633,\n",
       "       3.10987253, 3.03503642, 2.9580121 , 2.8844354 , 2.81969779,\n",
       "       2.7685681 , 2.73485947, 2.7211658 , 2.7286866 , 2.7571523 ])"
      ]
     },
     "execution_count": 9,
     "metadata": {},
     "output_type": "execute_result"
    }
   ],
   "source": [
    "xplot[0]"
   ]
  },
  {
   "cell_type": "code",
   "execution_count": null,
   "metadata": {},
   "outputs": [],
   "source": [
    "state"
   ]
  },
  {
   "cell_type": "code",
   "execution_count": null,
   "metadata": {},
   "outputs": [],
   "source": []
  },
  {
   "cell_type": "code",
   "execution_count": null,
   "metadata": {},
   "outputs": [],
   "source": []
  }
 ],
 "metadata": {
  "kernelspec": {
   "display_name": "Python 3",
   "language": "python",
   "name": "python3"
  },
  "language_info": {
   "codemirror_mode": {
    "name": "ipython",
    "version": 3
   },
   "file_extension": ".py",
   "mimetype": "text/x-python",
   "name": "python",
   "nbconvert_exporter": "python",
   "pygments_lexer": "ipython3",
   "version": "3.7.4"
  }
 },
 "nbformat": 4,
 "nbformat_minor": 4
}
