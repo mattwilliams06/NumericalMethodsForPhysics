{
 "cells": [
  {
   "cell_type": "markdown",
   "metadata": {},
   "source": [
    "# Projectile Motion\n",
    "\n",
    "This section will look at solving the projectile motion of a baseball. Without air resistance, the problem can be solved with elementary physics. With air resistance, however, we must resort to numerical methods. \n",
    "\n",
    "The equation of motion for the baseball is:\n",
    "\n",
    "$$ \\frac{dv}{dt} = \\frac{1}{m}F_a(v) - g\\hat y $$\n",
    "\n",
    "The force of air resistance is a function of the velocity. The last term is the gravitational acceleration multiplied by the unit vector in the y-direction. The force from air resistance is often approximated as:\n",
    "\n",
    "$$ F_a = -\\frac{1}{2}C_d\\rho A |v|v $$\n",
    "\n",
    "The drag coefficient of a baseball is dependent on its Reynolds number. Its drag coefficient is also typically lower than that of a smooth sphere because the stitching disrupts laminar flow around the ball, precipitating the onset of turbulence. At low Reynolds numbers, the drag coefficient is dependent on the Re itself. At higher Re, vortex shedding maintains a nearly constant drag coefficient of about 0.5. At the critical Re (approximately $3x10^{5}$ for a smooth sphere), turbulent flow disrupts the low pressure region in the wake behind the sphere.\n",
    "\n",
    "A baseball's mass and diameter are 0.145 kg and 7.4 cm.\n",
    "\n",
    "## Forward Derivative\n",
    "\n",
    "Performing the numerical analysis requires computation of the derivative. The derivative is defined as:\n",
    "\n",
    "$$ f'(x) = \\lim_{\\tau \\to 0} \\frac{f(t + \\tau) - f(t)}{\\tau} $$\n",
    "\n",
    "A special version of a Taylor expansion can be used where:\n",
    "\n",
    "$$ f(t + \\tau) = f(t) + \\tau f'(t) + \\frac{\\tau^2}{2}f''(\\zeta) $$\n",
    "\n",
    "Where $\\zeta$ is a value between $t$ and $t + \\tau$. The above expression can be rewritten as:\n",
    "\n",
    "$$ f'(t) = \\frac{f(t + \\tau) - f(t)}{\\tau} - \\frac{1}{2}\\tau f''(\\zeta) $$\n",
    "\n",
    "The last term is the truncation error. If the term is kept, the expression for $f'(t)$ is exact. But, we can't compute that term, because we don't know what $\\zeta$ is. But, we can bound the error, because we know the limits: $\\zeta$ is somewhere between $t$ and $t + \\tau$.\n",
    "\n",
    "## Euler's Method\n",
    "\n",
    "The equations of motion to be solved, generally, are:\n",
    "\n",
    "$$\\frac{dv}{dt} = a(r, v); \\frac{dr}{dt} = v $$\n",
    "\n",
    "In projectile motion, the acceleration is only a function of $v$ because of air resistance. In later sections, such as the motions of comets, acceleration will also be a function of position.\n",
    "\n",
    "Using the forward derivative, the equations of motion are:\n",
    "\n",
    "$$ \\frac{v(t + \\tau) - v(t)}{\\tau} + O(\\tau) = a(r(t), v(t)) $$\n",
    "\n",
    "$$ \\frac{r(t + \\tau) - r(t)}{\\tau} + O(\\tau) = v(t) $$\n",
    "\n",
    "Which, when rearranged, evaluate to:\n",
    "\n",
    "$$ v(t + \\tau) = v(t) + \\tau a(r(t), v(t)) + O(\\tau^2) $$\n",
    "\n",
    "$$ r(t + \\tau) = r(t) + \\tau v(t) + O(\\tau^2) $$\n",
    "\n",
    "How is Euler's method implemented in practice? First, a change in notation. $f_n = f(t_n); t_n = n\\tau; n = 0, 1, ...$, so $f_0 = f(t=0)$. Dropping the error term from above, our updates become:\n",
    "\n",
    "$$v_{n+1} = v_n + \\tau a_n$$\n",
    "\n",
    "$$r_{n+1} = r_n + \\tau v_n$$\n",
    "\n",
    "The calculation of the trajectory proceeds as follows:\n",
    "\n",
    "1. Specify the initial conditions, $r_0$ and $v_0$. \n",
    "2. Choose a time step $\\tau$.\n",
    "3. Calculate the acceleration given the current r and v.\n",
    "4. Use the previous two equations to update r and v.\n",
    "5. Proceed back to step 3 and continue until the desired number of trajectory points have been calculated.\n",
    "\n",
    "An alternative to the Euler method is the _Euler-Cromer_ method, which uses the updated velocity to update the position. This changes the second equation to be:\n",
    "\n",
    "$$r_{n+1} = r_n + \\tau v_{n+1}$$\n",
    "\n",
    "Additionally, the _midpoint method_ also changes the position equation. For the midpoint method, the second equation becomes:\n",
    "\n",
    "$$r_{n+1} = r_n + \\tau \\frac{v_{n+1} + v_n}{2}$$\n",
    "\n",
    "which is obviously an average of the second term of the Euler and Euler-Cromer methods. Inserting the equation for velocity into the midpoint method returns the familiar projectile equation:\n",
    "\n",
    "$$ r_{n+1} = r_n + \\tau v_n + \\frac{1}{2}a_n \\tau^2 $$\n",
    "\n",
    "By making some comparisons to equations in the book, we can see that the error is on the order of $\\tau^2 a$. If the acceleration were $10 m/s^2$, then the single-step truncation error would be $10^{-1} m$ for $\\tau = 10^{-1} s$.\n",
    "\n",
    "For implementing trajectory analysis using the Euler method:\n",
    "\n",
    "1. Set initial position $r_0$ and initial velocity $v_0$.\n",
    "2. Set the physical parameters ($m, C_d$, etc.)\n",
    "3. Loop until the ball hits the ground or maximum steps are completed\n",
    "    - Record position for plotting\n",
    "    - Compute acceleration\n",
    "    - Calaulate the new position and velocity\n",
    "    - If the ball reaches the ground (y < 0), break the loop\n",
    "4. Print max range and time of flight\n",
    "5. Graph the trajectory"
   ]
  },
  {
   "cell_type": "code",
   "execution_count": 86,
   "metadata": {},
   "outputs": [],
   "source": [
    "import numpy as np\n",
    "import matplotlib.pyplot as plt"
   ]
  },
  {
   "cell_type": "code",
   "execution_count": 4,
   "metadata": {},
   "outputs": [],
   "source": [
    "def balle():\n",
    "    ''' Function to compute the trajectory of a baseball using the Euler method'''\n",
    "    ''' The drag coefficient is calculated using quadratic interpolation based on information\n",
    "    given for Cd vs speeds between 0 and 55.9 m/s (125 mph). Therefore, speeds above 125 mph\n",
    "    will lead to inaccurate results.\n",
    "    '''\n",
    "    import numpy as np\n",
    "    import matplotlib.pyplot as plt\n",
    "    \n",
    "    ## Set initial position and velocity of the baseball\n",
    "    y0 = float(input('Enter initial height (meters): '))\n",
    "    r0 = np.array([0, y0]) # initial position vector\n",
    "    speed = float(input('Enter initial speed (m/s): '))\n",
    "    theta = float(input('Enter initial angle (degrees): '))\n",
    "    v0 = np.array([speed * np.cos(theta*np.pi/180), \n",
    "                  speed * np.sin(theta*np.pi/180)]) # vector components of speed\n",
    "    r = np.copy(r0)\n",
    "    v = np.copy(v0)\n",
    "    \n",
    "    ## Set physical parameters\n",
    "    #Cd = 0.35          # drag coefficient\n",
    "    area = 4.3e-3      # cross-sectional area (m^2)\n",
    "    grav = 9.81        # gravitational acceleration (m/s^2)\n",
    "    mass = .145       # mass of projectile (kg)\n",
    "    airFlag = int(input('Air resistance? (Yes: 1, No: 0)'))\n",
    "    if airFlag:\n",
    "        rho = 1.2      # density of air (kg/m^3)\n",
    "    else:\n",
    "        rho = 0\n",
    "    \n",
    "    ## Loop until ball hits the ground or max steps completed\n",
    "    tau = float(input('Enter time step (sec): '))    # time step (sec)\n",
    "    maxstep = 1000      # max number of time steps\n",
    "    xplot = np.empty(maxstep)\n",
    "    yplot = np.empty(maxstep)\n",
    "    xNoAir = np.empty(maxstep)\n",
    "    yNoAir = np.empty(maxstep)\n",
    "    \n",
    "    for istep in range(maxstep):\n",
    "        # Interpolate Cd based on speed\n",
    "        speed = np.linalg.norm(v)\n",
    "        if speed <= 22.4:\n",
    "            Cd = 0.5\n",
    "        elif speed > 22.4 and speed <= 44.7:\n",
    "            v_interp = np.array([22.4, 33.5, 44.7])\n",
    "            Cd_interp = np.array([0.5, 0.4, 0.28])\n",
    "            Cd = interp_Cd(v_interp, Cd_interp, speed)\n",
    "        else:\n",
    "            v_interp = np.array([33.5, 44.7, 55.9])\n",
    "            Cd_interp = np.array([0.4, 0.28, 0.23])\n",
    "            Cd = interp_Cd(v_interp, Cd_interp, speed)\n",
    "            \n",
    "        \n",
    "        air_const = -0.5 * Cd * rho * area / mass  # air resistance constant based on Cd\n",
    "            \n",
    "        xplot[istep] = r[0]    # record trajectory for each plot\n",
    "        yplot[istep] = r[1]\n",
    "        t = istep * tau        # current time\n",
    "        xNoAir[istep] = r0[0] + v0[0] * t\n",
    "        yNoAir[istep] = r0[1] + v0[1] * t - 0.5 * grav * t**2\n",
    "        \n",
    "        # calculate acceleration\n",
    "        accel = air_const * np.linalg.norm(v) * v   # air resistance\n",
    "        accel[1] -= grav                            # gravity\n",
    "        \n",
    "        # Calculate new position and velocity using Euler method\n",
    "        r = r + tau * v          # Euler step\n",
    "        v = v + tau * accel\n",
    "        \n",
    "        # If ball reaches ground (y < 0), break out of loop\n",
    "        if r[1] < 0:\n",
    "            laststep = istep + 1\n",
    "            xplot[laststep] = r[0]   # record last values\n",
    "            yplot[laststep] = r[1]\n",
    "            break\n",
    "    \n",
    "    # Interpolate to find true (corrected) range based on where the last point closest to the \n",
    "    # ground, i.e. the last positive y value\n",
    "    x, y, interp_range = interp(xplot[laststep-3:laststep+1], yplot[laststep-3:laststep+1])\n",
    "    \n",
    "    # Print max range and time of flight\n",
    "    print(f'Corrected range is {interp_range[0]:.2f} meters')\n",
    "    print(f'Simple range is {r[0]:.2f} meters')\n",
    "    print(f'Time of flight is {laststep*tau:.1f} seconds')\n",
    "    \n",
    "    ## Graph the trajectory\n",
    "    # Mark the location of the ground by a straight line\n",
    "    xground = np.array([0., xNoAir[laststep-1]])\n",
    "    yground = np.array([0., 0.])\n",
    "    \n",
    "    # plot the computed trajectory with no air\n",
    "    plt.plot(xplot[0:laststep+1], yplot[0:laststep+1], '+', label='Euler Method')\n",
    "    plt.plot(xNoAir[0:laststep], yNoAir[0:laststep], '-', label='Theory (no air)')\n",
    "    plt.plot(xground, yground, 'r-')\n",
    "    #plt.plot(x, y, 'b--', label='Interpolation')\n",
    "    plt.legend()\n",
    "    plt.xlabel('Range (m)')\n",
    "    plt.ylabel('Height (m)')\n",
    "    plt.title('Projectile motion')\n",
    "    plt.show()"
   ]
  },
  {
   "cell_type": "code",
   "execution_count": 10,
   "metadata": {},
   "outputs": [
    {
     "name": "stdin",
     "output_type": "stream",
     "text": [
      "Enter initial height (meters):  1\n",
      "Enter initial speed (m/s):  50\n",
      "Enter initial angle (degrees):  45\n",
      "Air resistance? (Yes: 1, No: 0) 1\n",
      "Enter time step (sec):  0.1\n"
     ]
    },
    {
     "name": "stdout",
     "output_type": "stream",
     "text": [
      "Corrected range is 120.50 meters\n",
      "Simple range is 121.06 meters\n",
      "Time of flight is 6.0 seconds\n"
     ]
    },
    {
     "data": {
      "image/png": "[encoded data removed]",
      "text/plain": [
       "<Figure size 432x288 with 1 Axes>"
      ]
     },
     "metadata": {
      "needs_background": "light"
     },
     "output_type": "display_data"
    }
   ],
   "source": [
    "balle()"
   ]
  },
  {
   "cell_type": "markdown",
   "metadata": {},
   "source": [
    "We now want to make a correction to the program. The _balle_ function will overestimate the range, since it chooses the final iteration as the range, which is at y < 0. Instead, we will modify the linear interpolation function from the previous chapter, and have it return the x value where y = 0."
   ]
  },
  {
   "cell_type": "code",
   "execution_count": 6,
   "metadata": {},
   "outputs": [],
   "source": [
    "def interp(x, y):\n",
    "    ''' Function to perform quadratic interpolation on a set of 3 data points'''\n",
    "    import matplotlib.pyplot as plt\n",
    "    xmin = x[0]\n",
    "    xmax = x[-1]\n",
    "    \n",
    "    xi = np.linspace(xmin, xmax, 100)\n",
    "    \n",
    "    yi = ((xi - x[1])*(xi - x[2]))/((x[0] - x[1])*(x[0] - x[2])) * y[0] + \\\n",
    "         ((xi - x[0])*(xi - x[2]))/((x[1] - x[0])*(x[1] - x[2])) * y[1] + \\\n",
    "         ((xi - x[0])*(xi - x[1]))/((x[2] - x[0])*(x[2] - x[1])) * y[2]\n",
    "    \n",
    "#     plt.plot(x, y, '*', label='Given points')\n",
    "#     plt.plot(xi, yi, '--', label='interpolation')\n",
    "#     plt.legend()\n",
    "\n",
    "    y_ = yi[yi > 0]\n",
    "    ymin = min(y_)\n",
    "    \n",
    "    return x, y, xi[yi==ymin]"
   ]
  },
  {
   "cell_type": "code",
   "execution_count": 7,
   "metadata": {},
   "outputs": [],
   "source": [
    "def interp_Cd(x, y, target):\n",
    "    ''' Function to perform quadratic interpolation on a set of 3 data points'''\n",
    "    \n",
    "    xmin = x[0]\n",
    "    xmax = x[-1]\n",
    "    \n",
    "    xi = np.linspace(xmin, xmax, 100)\n",
    "    \n",
    "    yi = ((xi - x[1])*(xi - x[2]))/((x[0] - x[1])*(x[0] - x[2])) * y[0] + \\\n",
    "         ((xi - x[0])*(xi - x[2]))/((x[1] - x[0])*(x[1] - x[2])) * y[1] + \\\n",
    "         ((xi - x[0])*(xi - x[1]))/((x[2] - x[0])*(x[2] - x[1])) * y[2]\n",
    "    \n",
    "    return yi[abs(xi - target).argmin()]"
   ]
  },
  {
   "cell_type": "code",
   "execution_count": 8,
   "metadata": {},
   "outputs": [],
   "source": [
    "x = np.array([1, 2, 3])\n",
    "y = np.array([9, 7, 3])"
   ]
  },
  {
   "cell_type": "code",
   "execution_count": 9,
   "metadata": {},
   "outputs": [],
   "source": [
    "ans = interp(x, y)"
   ]
  },
  {
   "cell_type": "markdown",
   "metadata": {},
   "source": [
    "The balle function above was ultimately update to include a dynamic drag coefficient, and to interpolate the last three position updates to find the range that represents the closest point that the ball gets to the ground without actually having a negative y value. Using the final point overestimates the range, which you see in the corrected vs simple ranges that are printed out.\n",
    "\n",
    "Below is an implementation of the Euler-Cromer update step instead of the Euler step. The only difference is reversing the order that the position and velocity get updated in. In Euler-Cromer, the velocity is updated first, and then the position is updated using the updated velocity. For the same initial conditions (1m height, 50 m/s speed, 45 degree angle, 0.1 sec time interval), the Euler-Cromer results were about 5 meters shorter than the Euler results. "
   ]
  },
  {
   "cell_type": "code",
   "execution_count": 11,
   "metadata": {},
   "outputs": [],
   "source": [
    "def balle_EulerCromer():\n",
    "    import numpy as np\n",
    "    import matplotlib.pyplot as plt\n",
    "    \n",
    "    ## Set initial position and velocity of the baseball\n",
    "    y0 = float(input('Enter initial height (meters): '))\n",
    "    r0 = np.array([0, y0]) # initial position vector\n",
    "    speed = float(input('Enter initial speed (m/s): '))\n",
    "    theta = float(input('Enter initial angle (degrees): '))\n",
    "    v0 = np.array([speed * np.cos(theta*np.pi/180), \n",
    "                  speed * np.sin(theta*np.pi/180)]) # vector components of speed\n",
    "    r = np.copy(r0)\n",
    "    v = np.copy(v0)\n",
    "    \n",
    "    ## Set physical parameters\n",
    "    #Cd = 0.35          # drag coefficient\n",
    "    area = 4.3e-3      # cross-sectional area (m^2)\n",
    "    grav = 9.81        # gravitational acceleration (m/s^2)\n",
    "    mass = .145       # mass of projectile (kg)\n",
    "    airFlag = int(input('Air resistance? (Yes: 1, No: 0)'))\n",
    "    if airFlag:\n",
    "        rho = 1.2      # density of air (kg/m^3)\n",
    "    else:\n",
    "        rho = 0\n",
    "    \n",
    "    ## Loop until ball hits the ground or max steps completed\n",
    "    tau = float(input('Enter time step (sec): '))    # time step (sec)\n",
    "    maxstep = 1000      # max number of time steps\n",
    "    xplot = np.empty(maxstep)\n",
    "    yplot = np.empty(maxstep)\n",
    "    xNoAir = np.empty(maxstep)\n",
    "    yNoAir = np.empty(maxstep)\n",
    "    \n",
    "    for istep in range(maxstep):\n",
    "        # Interpolate Cd based on speed\n",
    "        speed = np.linalg.norm(v)\n",
    "        if speed <= 22.4:\n",
    "            Cd = 0.5\n",
    "        elif speed > 22.4 and speed <= 44.7:\n",
    "            v_interp = np.array([22.4, 33.5, 44.7])\n",
    "            Cd_interp = np.array([0.5, 0.4, 0.28])\n",
    "            Cd = interp_Cd(v_interp, Cd_interp, speed)\n",
    "        else:\n",
    "            v_interp = np.array([33.5, 44.7, 55.9])\n",
    "            Cd_interp = np.array([0.4, 0.28, 0.23])\n",
    "            Cd = interp_Cd(v_interp, Cd_interp, speed)\n",
    "            \n",
    "        \n",
    "        air_const = -0.5 * Cd * rho * area / mass  # air resistance constant based on Cd\n",
    "            \n",
    "        xplot[istep] = r[0]    # record trajectory for each plot\n",
    "        yplot[istep] = r[1]\n",
    "        t = istep * tau        # current time\n",
    "        xNoAir[istep] = r0[0] + v0[0] * t\n",
    "        yNoAir[istep] = r0[1] + v0[1] * t - 0.5 * grav * t**2\n",
    "        \n",
    "        # calculate acceleration\n",
    "        accel = air_const * np.linalg.norm(v) * v   # air resistance\n",
    "        accel[1] -= grav                            # gravity\n",
    "        \n",
    "        # Calculate new position and velocity using Euler method\n",
    "        v = v + tau * accel\n",
    "        r = r + tau * v      # Euler-Cromer step\n",
    "        # If ball reaches ground (y < 0), break out of loop\n",
    "        if r[1] < 0:\n",
    "            laststep = istep + 1\n",
    "            xplot[laststep] = r[0]   # record last values\n",
    "            yplot[laststep] = r[1]\n",
    "            break\n",
    "        \n",
    "        # Interpolate to find true (corrected) range based on where the last point closest to the \n",
    "    # ground, i.e. the last positive y value\n",
    "    x, y, interp_range = interp(xplot[laststep-3:laststep+1], yplot[laststep-3:laststep+1])\n",
    "    \n",
    "    # Print max range and time of flight\n",
    "    print(f'Corrected range is {interp_range[0]:.2f} meters')\n",
    "    print(f'Simple range is {r[0]:.2f} meters')\n",
    "    print(f'Time of flight is {laststep*tau:.1f} seconds')\n",
    "    \n",
    "    ## Graph the trajectory\n",
    "    # Mark the location of the ground by a straight line\n",
    "    xground = np.array([0., xNoAir[laststep-1]])\n",
    "    yground = np.array([0., 0.])\n",
    "    \n",
    "    # plot the computed trajectory with no air\n",
    "    plt.plot(xplot[0:laststep+1], yplot[0:laststep+1], '+', label='Euler-Cromer Method')\n",
    "    plt.plot(xNoAir[0:laststep], yNoAir[0:laststep], '-', label='Theory (no air)')\n",
    "    plt.plot(xground, yground, 'r-')\n",
    "    #plt.plot(x, y, 'b--', label='Interpolation')\n",
    "    plt.legend()\n",
    "    plt.xlabel('Range (m)')\n",
    "    plt.ylabel('Height (m)')\n",
    "    plt.title('Projectile motion')\n",
    "    plt.show()"
   ]
  },
  {
   "cell_type": "code",
   "execution_count": 12,
   "metadata": {},
   "outputs": [
    {
     "name": "stdin",
     "output_type": "stream",
     "text": [
      "Enter initial height (meters):  1\n",
      "Enter initial speed (m/s):  50\n",
      "Enter initial angle (degrees):  45\n",
      "Air resistance? (Yes: 1, No: 0) 1\n",
      "Enter time step (sec):  0.1\n"
     ]
    },
    {
     "name": "stdout",
     "output_type": "stream",
     "text": [
      "Corrected range is 115.33 meters\n",
      "Simple range is 115.37 meters\n",
      "Time of flight is 5.7 seconds\n"
     ]
    },
    {
     "data": {
      "image/png": "[encoded data removed]",
      "text/plain": [
       "<Figure size 432x288 with 1 Axes>"
      ]
     },
     "metadata": {
      "needs_background": "light"
     },
     "output_type": "display_data"
    }
   ],
   "source": [
    "balle_EulerCromer()"
   ]
  },
  {
   "cell_type": "code",
   "execution_count": 15,
   "metadata": {},
   "outputs": [],
   "source": [
    "def balle_midpoint():\n",
    "    import numpy as np\n",
    "    import matplotlib.pyplot as plt\n",
    "    \n",
    "    ## Set initial position and velocity of the baseball\n",
    "    y0 = float(input('Enter initial height (meters): '))\n",
    "    r0 = np.array([0, y0]) # initial position vector\n",
    "    speed = float(input('Enter initial speed (m/s): '))\n",
    "    theta = float(input('Enter initial angle (degrees): '))\n",
    "    v0 = np.array([speed * np.cos(theta*np.pi/180), \n",
    "                  speed * np.sin(theta*np.pi/180)]) # vector components of speed\n",
    "    r = np.copy(r0)\n",
    "    v = np.copy(v0)\n",
    "    \n",
    "    ## Set physical parameters\n",
    "    #Cd = 0.35          # drag coefficient\n",
    "    area = 4.3e-3      # cross-sectional area (m^2)\n",
    "    grav = 9.81        # gravitational acceleration (m/s^2)\n",
    "    mass = .145       # mass of projectile (kg)\n",
    "    airFlag = int(input('Air resistance? (Yes: 1, No: 0)'))\n",
    "    if airFlag:\n",
    "        rho = 1.2      # density of air (kg/m^3)\n",
    "    else:\n",
    "        rho = 0\n",
    "    \n",
    "    ## Loop until ball hits the ground or max steps completed\n",
    "    tau = float(input('Enter time step (sec): '))    # time step (sec)\n",
    "    maxstep = 1000      # max number of time steps\n",
    "    xplot = np.empty(maxstep)\n",
    "    yplot = np.empty(maxstep)\n",
    "    xNoAir = np.empty(maxstep)\n",
    "    yNoAir = np.empty(maxstep)\n",
    "    \n",
    "    for istep in range(maxstep):\n",
    "        # Interpolate Cd based on speed\n",
    "        speed = np.linalg.norm(v)\n",
    "        if speed <= 22.4:\n",
    "            Cd = 0.5\n",
    "        elif speed > 22.4 and speed <= 44.7:\n",
    "            v_interp = np.array([22.4, 33.5, 44.7])\n",
    "            Cd_interp = np.array([0.5, 0.4, 0.28])\n",
    "            Cd = interp_Cd(v_interp, Cd_interp, speed)\n",
    "        else:\n",
    "            v_interp = np.array([33.5, 44.7, 55.9])\n",
    "            Cd_interp = np.array([0.4, 0.28, 0.23])\n",
    "            Cd = interp_Cd(v_interp, Cd_interp, speed)\n",
    "            \n",
    "        \n",
    "        air_const = -0.5 * Cd * rho * area / mass  # air resistance constant based on Cd\n",
    "            \n",
    "        xplot[istep] = r[0]    # record trajectory for each plot\n",
    "        yplot[istep] = r[1]\n",
    "        t = istep * tau        # current time\n",
    "        xNoAir[istep] = r0[0] + v0[0] * t\n",
    "        yNoAir[istep] = r0[1] + v0[1] * t - 0.5 * grav * t**2\n",
    "        \n",
    "        # calculate acceleration\n",
    "        accel = air_const * np.linalg.norm(v) * v   # air resistance\n",
    "        accel[1] -= grav                            # gravity\n",
    "        \n",
    "        # Calculate new position and velocity using Euler method\n",
    "        v_n = v.copy()\n",
    "        v = v + tau * accel\n",
    "        r = r + tau * (v + v_n)/2      # midpoint step\n",
    "        # If ball reaches ground (y < 0), break out of loop\n",
    "        if r[1] < 0:\n",
    "            laststep = istep + 1\n",
    "            xplot[laststep] = r[0]   # record last values\n",
    "            yplot[laststep] = r[1]\n",
    "            break\n",
    "        \n",
    "        # Interpolate to find true (corrected) range based on where the last point closest to the \n",
    "    # ground, i.e. the last positive y value\n",
    "    x, y, interp_range = interp(xplot[laststep-3:laststep+1], yplot[laststep-3:laststep+1])\n",
    "    \n",
    "    # Print max range and time of flight\n",
    "    print(f'Corrected range is {interp_range[0]:.2f} meters')\n",
    "    print(f'Simple range is {r[0]:.2f} meters')\n",
    "    print(f'Time of flight is {laststep*tau:.1f} seconds')\n",
    "    \n",
    "    ## Graph the trajectory\n",
    "    # Mark the location of the ground by a straight line\n",
    "    xground = np.array([0., xNoAir[laststep-1]])\n",
    "    yground = np.array([0., 0.])\n",
    "    \n",
    "    # plot the computed trajectory with no air\n",
    "    plt.plot(xplot[0:laststep+1], yplot[0:laststep+1], '+', label='Midpoint Method')\n",
    "    plt.plot(xNoAir[0:laststep], yNoAir[0:laststep], '-', label='Theory (no air)')\n",
    "    plt.plot(xground, yground, 'r-')\n",
    "    #plt.plot(x, y, 'b--', label='Interpolation')\n",
    "    plt.legend()\n",
    "    plt.xlabel('Range (m)')\n",
    "    plt.ylabel('Height (m)')\n",
    "    plt.title('Projectile motion')\n",
    "    plt.show()"
   ]
  },
  {
   "cell_type": "code",
   "execution_count": 16,
   "metadata": {},
   "outputs": [
    {
     "name": "stdin",
     "output_type": "stream",
     "text": [
      "Enter initial height (meters):  1\n",
      "Enter initial speed (m/s):  50\n",
      "Enter initial angle (degrees):  45\n",
      "Air resistance? (Yes: 1, No: 0) 1\n",
      "Enter time step (sec):  0.1\n"
     ]
    },
    {
     "name": "stdout",
     "output_type": "stream",
     "text": [
      "Corrected range is 117.92 meters\n",
      "Simple range is 118.76 meters\n",
      "Time of flight is 5.9 seconds\n"
     ]
    },
    {
     "data": {
      "image/png": "[encoded data removed]",
      "text/plain": [
       "<Figure size 432x288 with 1 Axes>"
      ]
     },
     "metadata": {
      "needs_background": "light"
     },
     "output_type": "display_data"
    }
   ],
   "source": [
    "balle_midpoint()"
   ]
  },
  {
   "cell_type": "markdown",
   "metadata": {},
   "source": [
    "# Simple Pendulum\n",
    "\n",
    "The equation of motion for a pendulum can be derived from the equation for torque, which is equal to the moment of inertia multiplied by the angular acceleration:\n",
    "\n",
    "$$ \\tau = I\\alpha $$\n",
    "\n",
    "The torque is given by the length of the pendulum $L$ multiplied by the component of force perpenducular to the pendulum arm. For gravitational forces only, that component is $mgsin\\theta$. Therefore, the equation of motion for a simple pendulum is:\n",
    "\n",
    "$$ \\frac{d^2\\theta}{dt^2} = -\\frac{g}{L}sin\\theta $$\n",
    "\n",
    "Recall that a centered difference is given by:\n",
    "\n",
    "$$ f'(t) = \\frac{f(t + \\tau) - f(t - \\tau)}{2\\tau} + O(\\tau^2) $$ \n",
    "\n",
    "The centered difference has error on the order of $\\tau^2$, which is better than the forward or backward differences. The second centered derivative is the centered derivative of the centered derivative, which gives:\n",
    "\n",
    "$$ f''(t) = \\frac{f(t + \\tau) + f(t - \\tau) - 2f(t)}{\\tau^2} + O(\\tau^2) $$\n",
    "\n",
    "The pendulum problem seeks to find $\\theta$ and $\\omega$, but we will still use the notation $v$ and $r$. The equations of motion are:\n",
    "\n",
    "$$ \\frac{dv}{dt} = a(r(t)) $$\n",
    "\n",
    "$$ \\frac{dr}{dt} = v(t) $$\n",
    "\n",
    "The acceleration depends only on position, which is evident from the equations of motion derived above. Discretizing the velocity derivative using the centered difference:\n",
    "\n",
    "$$ \\frac{v(t + \\tau) - v(t - \\tau)}{2\\tau} + O(\\tau^2) = a(r(t)) $$\n",
    "\n",
    "Note that to evaluate the acceleration at time $t$, we use the velocity at time $t + \\tau$ and $t - \\tau$. The position will be discretized between time $t + 2\\tau$ and $t$:\n",
    "\n",
    "$$ \\frac{r(t + 2\\tau) - r(t)}{2\\tau} + O(\\tau^2) = v(t + \\tau) $$\n",
    "\n",
    "Using the prior notation, the discretizations become:\n",
    "\n",
    "$$ \\frac{v_{n+1} - v_{n-1}}{2\\tau} + O(\\tau^2) = a(r_n) $$\n",
    "\n",
    "$$ \\frac{r_{n+2} - r_n}{2\\tau} + O(\\tau^2) = v_{n+1} $$\n",
    "\n",
    "Rearranging terms give the update steps:\n",
    "\n",
    "$$ v_{n+1} = v_{n-1} + 2\\tau a(r_n) + O(\\tau^3) $$\n",
    "\n",
    "$$ r_{n+2} = r_n + 2\\tau v_{n+1} + O(\\tau^3) $$\n",
    "\n",
    "The above method is called the _leap frog method_. The solution is advanced in steps of $2\\tau$, with the position evaluated at even steps ($r_0, r_2, r_4$) and the velocity evaluated at odd steps ($v_1, v_2, v_3$).\n",
    "\n",
    "An alternative is to use the _Verlet method_. Beginning with different equations of motion:\n",
    "\n",
    "$$ \\frac{dr}{dt} = v(t) $$\n",
    "\n",
    "$$ \\frac{d^2r}{dt^2} = a(r) $$\n",
    "\n",
    "The central difference equations for first and second derivatives give:\n",
    "\n",
    "$$ \\frac{r_{n+1} - r_{n-1}}{2\\tau} + O(\\tau^2) = v_n $$\n",
    "\n",
    "$$ \\frac{r_{n+1} + r_{n-1} - 2r_n}{\\tau^2} + O(\\tau^2) = a_n $$\n",
    "\n",
    "Rarranging the second term:\n",
    "\n",
    "$$ r_{n+1} = 2r_n - r_{n-1} + \\tau^2a_n + O(\\tau^4) $$\n",
    "\n",
    "The leap-frog and Verlet methods are not \"self-starting.\" We need the initial conditions, $r_0, v_0$, but also the position and velocity at $t = -\\tau$, $r_{-1}, v_{-1}$. There are methods for getting the Verlet method started, such as taking a backward step:\n",
    "\n",
    "$$ r_{-1} = r_0 - \\tau v_0 + \\frac{\\tau^2}{2}a(r_0) $$\n",
    "\n",
    "## Pendulum Program\n",
    "\n",
    "The equations for the simple pendulum are:\n",
    "\n",
    "$$ \\frac{d\\omega}{dt} = \\alpha(\\theta) $$\n",
    "\n",
    "$$ \\frac{d\\theta}{dt} = \\omega $$\n",
    "\n",
    "where the angular acceleration is $\\alpha(\\theta) = -(g/L)sin\\theta $. The Euler method for solving this system is:\n",
    "\n",
    "$$ \\theta_{n+1} = \\theta_n + \\tau \\omega_n $$\n",
    "\n",
    "$$ \\omega_{n+1} = \\omega_n + \\tau \\alpha_n $$\n",
    "\n",
    "If we are only interested in the angle and not the velocity, the Verlet method can be used to give:\n",
    "\n",
    "$$ \\theta_{n+1} = 2\\theta_n - \\theta_{n-1} + \\tau^2\\alpha_n $$\n",
    "\n",
    "The program will estimate the period by checking if the angle has changed sign. After the first reversal, each sign change will estimate the period by:\n",
    "\n",
    "$$ T_k = 2\\tau(n_{k+1} - n_k) $$\n",
    "\n",
    "where $n_k$ is the time step on which the $kth$ reversal occurred.\n",
    "\n",
    "The implementation of the program will be:\n",
    "\n",
    "1. Select the numerical method to use: Euler of Verlet\n",
    "2. Set initial position $\\theta_0$ and velocity $\\omega_0 = 0$\n",
    "3. Set physical constants and other variables\n",
    "4. Take on backward step to start Verlet\n",
    "5. Loop over desired number of steps with given time step and numerical method:\n",
    "    - Record angle and time for plotting\n",
    "    - Compute new position and velocity using Euler or Verlet\n",
    "    - Test if the pendulum has passed through $\\theta = 0$. If yes, use time to estimate period\n",
    "6. Estimate period of oscillation, including error bar\n",
    "7. Graph the oscillations\n",
    "\n",
    "The period is recorded for each angle reversal, and an average period is computed. The error bar for the measured period is estimated as $\\sigma = s/\\sqrt{M}$, where\n",
    "\n",
    "$$ s = \\sqrt{\\frac{1}{N-1}\\sum^N_{k=1}(T_k - T_{avg})^2} $$\n",
    "\n",
    "which is the sample standard deviation of T."
   ]
  },
  {
   "cell_type": "code",
   "execution_count": 21,
   "metadata": {},
   "outputs": [],
   "source": [
    "def pendul():\n",
    "    ''' Program to compute the motion of a simple pendulum using Euler or Verlet method'''\n",
    "    import numpy as np\n",
    "    import matplotlib.pyplot as plt\n",
    "    \n",
    "    # Select either Euler or Verlet\n",
    "    numericalMethod = int(input('Choose a numerical method (1: Euler, 2: Verlet): '))\n",
    "    \n",
    "    # Set initial position and velocity\n",
    "    theta0 = float(input('Enter initial angle (degrees): '))\n",
    "    theta = theta0 * np.pi/180       # Convert angle to radians\n",
    "    omega = 0.0\n",
    "    \n",
    "    # Set the physical constants and other variables\n",
    "    g_over_L = 1.0           # The constant g/L\n",
    "    time = 0.0               # Initial time\n",
    "    irev = 0                 # Count for angle reversals\n",
    "    tau = float(input('Enter the time step: '))\n",
    "    \n",
    "    # Take one backward step to start Verlet\n",
    "    accel = -g_over_L * np.sin(theta)\n",
    "    theta_old = theta - tau * omega + (tau**2 / 2.) * accel\n",
    "    \n",
    "    # Loop over desired number of steps with the given time step and method\n",
    "    nstep = int(input('Enter the desired number of time steps: '))\n",
    "    t_plot = np.empty(nstep)\n",
    "    th_plot = np.empty(nstep)\n",
    "    period = np.empty(nstep)   # Used to record period estimates\n",
    "    \n",
    "    for istep in range(nstep):\n",
    "        \n",
    "        # Record angle and time for plotting\n",
    "        t_plot[istep] = time\n",
    "        th_plot[istep] = theta * 180 / np.pi    # Convert angle to degrees\n",
    "        time += tau\n",
    "        \n",
    "        # Compute new position and velocity\n",
    "        accel = -g_over_L * np.sin(theta)\n",
    "        if numericalMethod == 1:\n",
    "            theta_old = theta       # Save previous angle\n",
    "            theta += tau * omega    # Euler step\n",
    "            omega += tau * accel\n",
    "        else:\n",
    "            theta_new = 2 * theta - theta_old + tau**2 * accel\n",
    "            theta_old = theta       # Verlet method\n",
    "            theta = theta_new\n",
    "            \n",
    "        # Test if pendulum has passed through theta = 0\n",
    "        # If yes, use time to estimate period\n",
    "        if theta * theta_old < 0:   # Test position for sign change\n",
    "            print(f'Turning point at time t = {time}')\n",
    "            if irev == 0:           # If this is the first sign change\n",
    "                time_old = time\n",
    "            else:\n",
    "                period[irev-1] = 2 * (time - time_old)\n",
    "                time_old = time\n",
    "            irev += 1               # Increment number of reversals\n",
    "            \n",
    "    # Estimate period of oscillation, including error bar\n",
    "    nPeriod = irev - 1              # Number of times period was measured\n",
    "    avgPeriod = np.mean(period[0:nPeriod])\n",
    "    errorBar = np.std(period[0:nPeriod]) / np.sqrt(nPeriod)\n",
    "    print(f'Average period = {avgPeriod:.2f} +/- {errorBar:.2f}')\n",
    "        \n",
    "    # Graph the oscillations as theta vs time\n",
    "    plt.plot(t_plot, th_plot, '+')\n",
    "    plt.xlabel('Time')\n",
    "    plt.ylabel(r'$\\theta$(degrees)')\n",
    "    plt.show()"
   ]
  },
  {
   "cell_type": "code",
   "execution_count": 22,
   "metadata": {},
   "outputs": [
    {
     "name": "stdin",
     "output_type": "stream",
     "text": [
      "Choose a numerical method (1: Euler, 2: Verlet):  1\n",
      "Enter initial angle (degrees):  10\n",
      "Enter the time step:  0.1\n",
      "Enter the desired number of time steps:  300\n"
     ]
    },
    {
     "name": "stdout",
     "output_type": "stream",
     "text": [
      "Turning point at time t = 1.6000000000000003\n",
      "Turning point at time t = 4.799999999999999\n",
      "Turning point at time t = 7.999999999999988\n",
      "Turning point at time t = 11.099999999999977\n",
      "Turning point at time t = 14.299999999999965\n",
      "Turning point at time t = 17.49999999999998\n",
      "Turning point at time t = 20.700000000000024\n",
      "Turning point at time t = 23.90000000000007\n",
      "Turning point at time t = 27.100000000000115\n",
      "Average period = 6.38 +/- 0.02\n"
     ]
    },
    {
     "data": {
      "image/png": "[encoded data removed]",
      "text/plain": [
       "<Figure size 432x288 with 1 Axes>"
      ]
     },
     "metadata": {
      "needs_background": "light"
     },
     "output_type": "display_data"
    }
   ],
   "source": [
    "pendul()"
   ]
  },
  {
   "cell_type": "markdown",
   "metadata": {},
   "source": [
    "The ratio g/L is taken to be unity for this program, which causes the small amplitude period to be approximately $2\\pi$. The estimated period, given by equation 2.38 in the book, should be $2\\pi (1.002) = 6.3$ sec. The computed period is about 1.5% larger. Additionally, the Euler method errors begin compounding, and the pendulum oscillations begin to grow in amplitude. If we reduce the time step and increase the number of steps, we may improve the results:"
   ]
  },
  {
   "cell_type": "code",
   "execution_count": 23,
   "metadata": {},
   "outputs": [
    {
     "name": "stdin",
     "output_type": "stream",
     "text": [
      "Choose a numerical method (1: Euler, 2: Verlet):  1\n",
      "Enter initial angle (degrees):  10\n",
      "Enter the time step:  0.05\n",
      "Enter the desired number of time steps:  600\n"
     ]
    },
    {
     "name": "stdout",
     "output_type": "stream",
     "text": [
      "Turning point at time t = 1.6000000000000008\n",
      "Turning point at time t = 4.749999999999991\n",
      "Turning point at time t = 7.89999999999998\n",
      "Turning point at time t = 11.050000000000022\n",
      "Turning point at time t = 14.200000000000067\n",
      "Turning point at time t = 17.35000000000011\n",
      "Turning point at time t = 20.550000000000157\n",
      "Turning point at time t = 23.700000000000202\n",
      "Turning point at time t = 26.850000000000247\n",
      "Average period = 6.31 +/- 0.01\n"
     ]
    },
    {
     "data": {
      "image/png": "[encoded data removed]",
      "text/plain": [
       "<Figure size 432x288 with 1 Axes>"
      ]
     },
     "metadata": {
      "needs_background": "light"
     },
     "output_type": "display_data"
    }
   ],
   "source": [
    "pendul()"
   ]
  },
  {
   "cell_type": "markdown",
   "metadata": {},
   "source": [
    "The period measurement has certainly improved, but the oscillations are still growing in amplitude using the Euler method. Switching to the Verlet method:"
   ]
  },
  {
   "cell_type": "code",
   "execution_count": 24,
   "metadata": {},
   "outputs": [
    {
     "name": "stdin",
     "output_type": "stream",
     "text": [
      "Choose a numerical method (1: Euler, 2: Verlet):  2\n",
      "Enter initial angle (degrees):  10\n",
      "Enter the time step:  0.1\n",
      "Enter the desired number of time steps:  300\n"
     ]
    },
    {
     "name": "stdout",
     "output_type": "stream",
     "text": [
      "Turning point at time t = 1.6000000000000003\n",
      "Turning point at time t = 4.799999999999999\n",
      "Turning point at time t = 7.899999999999988\n",
      "Turning point at time t = 11.099999999999977\n",
      "Turning point at time t = 14.199999999999966\n",
      "Turning point at time t = 17.399999999999977\n",
      "Turning point at time t = 20.50000000000002\n",
      "Turning point at time t = 23.600000000000065\n",
      "Turning point at time t = 26.80000000000011\n",
      "Turning point at time t = 29.900000000000155\n",
      "Average period = 6.29 +/- 0.03\n"
     ]
    },
    {
     "data": {
      "image/png": "[encoded data removed]",
      "text/plain": [
       "<Figure size 432x288 with 1 Axes>"
      ]
     },
     "metadata": {
      "needs_background": "light"
     },
     "output_type": "display_data"
    }
   ],
   "source": [
    "pendul()"
   ]
  },
  {
   "cell_type": "markdown",
   "metadata": {},
   "source": [
    "This method is much more stable. The oscillations do not appear to be growing, and the initial period estimate is good. Now, let's use a large initial angle, $\\theta = 90$. The period estimation from eq 2.38 is 7.252 seconds."
   ]
  },
  {
   "cell_type": "code",
   "execution_count": 26,
   "metadata": {},
   "outputs": [
    {
     "name": "stdin",
     "output_type": "stream",
     "text": [
      "Choose a numerical method (1: Euler, 2: Verlet):  2\n",
      "Enter initial angle (degrees):  90\n",
      "Enter the time step:  0.1\n",
      "Enter the desired number of time steps:  300\n"
     ]
    },
    {
     "name": "stdout",
     "output_type": "stream",
     "text": [
      "Turning point at time t = 1.9000000000000006\n",
      "Turning point at time t = 5.599999999999996\n",
      "Turning point at time t = 9.299999999999983\n",
      "Turning point at time t = 12.99999999999997\n",
      "Turning point at time t = 16.699999999999967\n",
      "Turning point at time t = 20.40000000000002\n",
      "Turning point at time t = 24.100000000000072\n",
      "Turning point at time t = 27.900000000000126\n",
      "Average period = 7.43 +/- 0.03\n"
     ]
    },
    {
     "data": {
      "image/png": "[encoded data removed]",
      "text/plain": [
       "<Figure size 432x288 with 1 Axes>"
      ]
     },
     "metadata": {
      "needs_background": "light"
     },
     "output_type": "display_data"
    }
   ],
   "source": [
    "pendul()"
   ]
  },
  {
   "cell_type": "markdown",
   "metadata": {},
   "source": [
    "This period estimation is still good, even with this large initial angle. Using a very large initial angle of 170 degrees, the period estimated from 2.38 should be 9.74 seconds."
   ]
  },
  {
   "cell_type": "code",
   "execution_count": 27,
   "metadata": {},
   "outputs": [
    {
     "name": "stdin",
     "output_type": "stream",
     "text": [
      "Choose a numerical method (1: Euler, 2: Verlet):  2\n",
      "Enter initial angle (degrees):  170\n",
      "Enter the time step:  0.1\n",
      "Enter the desired number of time steps:  300\n"
     ]
    },
    {
     "name": "stdout",
     "output_type": "stream",
     "text": [
      "Turning point at time t = 3.900000000000002\n",
      "Turning point at time t = 11.499999999999975\n",
      "Turning point at time t = 19.200000000000003\n",
      "Turning point at time t = 26.900000000000112\n",
      "Average period = 15.33 +/- 0.05\n"
     ]
    },
    {
     "data": {
      "image/png": "[encoded data removed]",
      "text/plain": [
       "<Figure size 432x288 with 1 Axes>"
      ]
     },
     "metadata": {
      "needs_background": "light"
     },
     "output_type": "display_data"
    }
   ],
   "source": [
    "pendul()"
   ]
  },
  {
   "cell_type": "markdown",
   "metadata": {},
   "source": [
    "The approximation for the period from equation 2.37 breaks down at this large angle. \n",
    "\n",
    "## Exercise 12\n",
    "\n",
    "Write a program that computes the centered derivative and plots the absolute error. Plot the error in the derivatives for:\n",
    "1. $x^2$ at $x = 1$\n",
    "2. $x^5$ at $x = 1$\n",
    "3. $sin(x)$ at $x = 0$\n",
    "4. $sin(x)$ at $x = \\pi/4$\n",
    "5. $sin(x)$ at $x = \\pi/2$"
   ]
  },
  {
   "cell_type": "code",
   "execution_count": 42,
   "metadata": {},
   "outputs": [],
   "source": [
    "# f(x) = x**2 at x = 1\n",
    "def center_diff():\n",
    "    import numpy as np\n",
    "    import matplotlib.pyplot as plt\n",
    "    h = np.logspace(-20, 0, 20)\n",
    "    x = 1\n",
    "    #for i in range(len(h)):\n",
    "    df_approx = ((x + h)**2 - (x - h)**2) / (2 * h)\n",
    "    df_exact = 2 * x\n",
    "    error = np.abs(df_exact - df_approx)\n",
    "    plt.loglog(h, error, '*')\n",
    "    plt.xlabel('h')\n",
    "    plt.ylabel('error')"
   ]
  },
  {
   "cell_type": "code",
   "execution_count": 43,
   "metadata": {},
   "outputs": [
    {
     "data": {
      "image/png": "[encoded data removed]",
      "text/plain": [
       "<Figure size 432x288 with 1 Axes>"
      ]
     },
     "metadata": {
      "needs_background": "light"
     },
     "output_type": "display_data"
    }
   ],
   "source": [
    "center_diff()"
   ]
  },
  {
   "cell_type": "code",
   "execution_count": 44,
   "metadata": {},
   "outputs": [],
   "source": [
    "# f(x) = x**5 at x = 1\n",
    "def center_diff():\n",
    "    import numpy as np\n",
    "    import matplotlib.pyplot as plt\n",
    "    h = np.logspace(-20, 0, 20)\n",
    "    x = 1\n",
    "    #for i in range(len(h)):\n",
    "    df_approx = ((x + h)**5 - (x - h)**5) / (2 * h)\n",
    "    df_exact = 5 * x**4\n",
    "    error = np.abs(df_exact - df_approx)\n",
    "    plt.loglog(h, error, '*')\n",
    "    plt.xlabel('h')\n",
    "    plt.ylabel('error')"
   ]
  },
  {
   "cell_type": "code",
   "execution_count": 45,
   "metadata": {},
   "outputs": [
    {
     "data": {
      "image/png": "[encoded data removed]",
      "text/plain": [
       "<Figure size 432x288 with 1 Axes>"
      ]
     },
     "metadata": {
      "needs_background": "light"
     },
     "output_type": "display_data"
    }
   ],
   "source": [
    "center_diff()"
   ]
  },
  {
   "cell_type": "code",
   "execution_count": 48,
   "metadata": {},
   "outputs": [],
   "source": [
    "# f(x) = sin(x) at x = 0\n",
    "def center_diff():\n",
    "    import numpy as np\n",
    "    import matplotlib.pyplot as plt\n",
    "    h = np.logspace(-20, 0, 20)\n",
    "    x = 0\n",
    "    #for i in range(len(h)):\n",
    "    df_approx = (np.sin(x + h) - np.sin(x - h)) / (2 * h)\n",
    "    df_exact = np.cos(x)\n",
    "    error = np.abs(df_exact - df_approx)\n",
    "    plt.loglog(h, error, '*')\n",
    "    plt.xlabel('h')\n",
    "    plt.ylabel('error')"
   ]
  },
  {
   "cell_type": "code",
   "execution_count": 49,
   "metadata": {},
   "outputs": [
    {
     "data": {
      "image/png": "[encoded data removed]",
      "text/plain": [
       "<Figure size 432x288 with 1 Axes>"
      ]
     },
     "metadata": {
      "needs_background": "light"
     },
     "output_type": "display_data"
    }
   ],
   "source": [
    "center_diff()"
   ]
  },
  {
   "cell_type": "code",
   "execution_count": 50,
   "metadata": {},
   "outputs": [],
   "source": [
    "# f(x) = sin(x) at x = pi/4\n",
    "def center_diff():\n",
    "    import numpy as np\n",
    "    import matplotlib.pyplot as plt\n",
    "    h = np.logspace(-20, 0, 20)\n",
    "    x = np.pi/4\n",
    "    #for i in range(len(h)):\n",
    "    df_approx = (np.sin(x + h) - np.sin(x - h)) / (2 * h)\n",
    "    df_exact = np.cos(x)\n",
    "    error = np.abs(df_exact - df_approx)\n",
    "    plt.loglog(h, error, '*')\n",
    "    plt.xlabel('h')\n",
    "    plt.ylabel('error')"
   ]
  },
  {
   "cell_type": "code",
   "execution_count": 51,
   "metadata": {},
   "outputs": [
    {
     "data": {
      "image/png": "[encoded data removed]",
      "text/plain": [
       "<Figure size 432x288 with 1 Axes>"
      ]
     },
     "metadata": {
      "needs_background": "light"
     },
     "output_type": "display_data"
    }
   ],
   "source": [
    "center_diff()"
   ]
  },
  {
   "cell_type": "code",
   "execution_count": 58,
   "metadata": {},
   "outputs": [],
   "source": [
    "# f(x) = sin(x) at x = pi/2\n",
    "def center_diff():\n",
    "    import numpy as np\n",
    "    import matplotlib.pyplot as plt\n",
    "    h = np.logspace(-20, 0, 20)\n",
    "    x = np.pi/2\n",
    "    #for i in range(len(h)):\n",
    "    df_approx = (np.sin(x + h) - np.sin(x - h)) / (2 * h)\n",
    "    df_exact = np.cos(x)\n",
    "    error = np.abs(df_exact - df_approx)\n",
    "    plt.loglog(h, error, '*')\n",
    "    plt.xlabel('h')\n",
    "    plt.ylabel('error')"
   ]
  },
  {
   "cell_type": "code",
   "execution_count": 59,
   "metadata": {},
   "outputs": [
    {
     "data": {
      "image/png": "[encoded data removed]",
      "text/plain": [
       "<Figure size 432x288 with 1 Axes>"
      ]
     },
     "metadata": {
      "needs_background": "light"
     },
     "output_type": "display_data"
    }
   ],
   "source": [
    "center_diff()"
   ]
  },
  {
   "cell_type": "markdown",
   "metadata": {},
   "source": [
    "## Exercise 13\n",
    "\n",
    "Now, do the same thing as above, but numerically evaluating the error in the second derivative using the centered second derivative."
   ]
  },
  {
   "cell_type": "code",
   "execution_count": 74,
   "metadata": {},
   "outputs": [],
   "source": [
    "# f(x) = x**2 at x = 1\n",
    "def center_second_diff():\n",
    "    import numpy as np\n",
    "    import matplotlib.pyplot as plt\n",
    "    h = np.logspace(-20, 0, 20)\n",
    "    x = 1\n",
    "    d2f_approx = ((x + h)**2 + (x - h)**2 - 2 * x**2) / h**2\n",
    "    d2f_exact = 2\n",
    "    error = np.absolute(d2f_exact - d2f_approx)\n",
    "    plt.loglog(h, error, '*')\n",
    "    plt.xlabel('h')\n",
    "    plt.ylabel('error')"
   ]
  },
  {
   "cell_type": "code",
   "execution_count": 75,
   "metadata": {},
   "outputs": [
    {
     "data": {
      "image/png": "[encoded data removed]",
      "text/plain": [
       "<Figure size 432x288 with 1 Axes>"
      ]
     },
     "metadata": {
      "needs_background": "light"
     },
     "output_type": "display_data"
    }
   ],
   "source": [
    "center_second_diff()"
   ]
  },
  {
   "cell_type": "markdown",
   "metadata": {},
   "source": [
    "Interesting behavior. Note that at x = 0, the approximation was exact for all h."
   ]
  },
  {
   "cell_type": "code",
   "execution_count": 76,
   "metadata": {},
   "outputs": [],
   "source": [
    "# f(x) = x**5 at x = 1\n",
    "def center_second_diff():\n",
    "    import numpy as np\n",
    "    import matplotlib.pyplot as plt\n",
    "    h = np.logspace(-20, 0, 20)\n",
    "    x = 1\n",
    "    d2f_approx = ((x + h)**5 + (x - h)**5 - 2 * x**5) / h**2\n",
    "    d2f_exact = 20 * x**3\n",
    "    error = np.absolute(d2f_exact - d2f_approx)\n",
    "    plt.loglog(h, error, '*')\n",
    "    plt.xlabel('h')\n",
    "    plt.ylabel('error')"
   ]
  },
  {
   "cell_type": "code",
   "execution_count": 77,
   "metadata": {},
   "outputs": [
    {
     "data": {
      "image/png": "[encoded data removed]",
      "text/plain": [
       "<Figure size 432x288 with 1 Axes>"
      ]
     },
     "metadata": {
      "needs_background": "light"
     },
     "output_type": "display_data"
    }
   ],
   "source": [
    "center_second_diff()"
   ]
  },
  {
   "cell_type": "code",
   "execution_count": 80,
   "metadata": {},
   "outputs": [],
   "source": [
    "# f(x) = sin(x) at x = 0\n",
    "def center_second_diff():\n",
    "    import numpy as np\n",
    "    import matplotlib.pyplot as plt\n",
    "    h = np.logspace(-20, 0, 20)\n",
    "    x = 0\n",
    "    d2f_approx = (np.sin(x + h) + np.sin(x - h) - 2 * np.sin(x)) / h**2\n",
    "    d2f_exact = -np.sin(x)\n",
    "    error = np.absolute(d2f_exact - d2f_approx)\n",
    "#     plt.loglog(h, error, '*')\n",
    "#     plt.xlabel('h')\n",
    "#     plt.ylabel('error')\n",
    "    return error"
   ]
  },
  {
   "cell_type": "code",
   "execution_count": 81,
   "metadata": {},
   "outputs": [
    {
     "data": {
      "text/plain": [
       "array([0., 0., 0., 0., 0., 0., 0., 0., 0., 0., 0., 0., 0., 0., 0., 0., 0.,\n",
       "       0., 0., 0.])"
      ]
     },
     "execution_count": 81,
     "metadata": {},
     "output_type": "execute_result"
    }
   ],
   "source": [
    "center_second_diff()"
   ]
  },
  {
   "cell_type": "code",
   "execution_count": 82,
   "metadata": {},
   "outputs": [],
   "source": [
    "# f(x) = sin(x) at x = pi/4\n",
    "def center_second_diff():\n",
    "    import numpy as np\n",
    "    import matplotlib.pyplot as plt\n",
    "    h = np.logspace(-20, 0, 20)\n",
    "    x = np.pi/4\n",
    "    d2f_approx = (np.sin(x + h) + np.sin(x - h) - 2 * np.sin(x)) / h**2\n",
    "    d2f_exact = -np.sin(x)\n",
    "    error = np.absolute(d2f_exact - d2f_approx)\n",
    "    plt.loglog(h, error, '*')\n",
    "    plt.xlabel('h')\n",
    "    plt.ylabel('error')"
   ]
  },
  {
   "cell_type": "code",
   "execution_count": 83,
   "metadata": {},
   "outputs": [
    {
     "data": {
      "image/png": "[encoded data removed]",
      "text/plain": [
       "<Figure size 432x288 with 1 Axes>"
      ]
     },
     "metadata": {
      "needs_background": "light"
     },
     "output_type": "display_data"
    }
   ],
   "source": [
    "center_second_diff()"
   ]
  },
  {
   "cell_type": "code",
   "execution_count": 84,
   "metadata": {},
   "outputs": [],
   "source": [
    "# f(x) = sin(x) at x = pi/2\n",
    "def center_second_diff():\n",
    "    import numpy as np\n",
    "    import matplotlib.pyplot as plt\n",
    "    h = np.logspace(-20, 0, 20)\n",
    "    x = np.pi/2\n",
    "    d2f_approx = (np.sin(x + h) + np.sin(x - h) - 2 * np.sin(x)) / h**2\n",
    "    d2f_exact = -np.sin(x)\n",
    "    error = np.absolute(d2f_exact - d2f_approx)\n",
    "    plt.loglog(h, error, '*')\n",
    "    plt.xlabel('h')\n",
    "    plt.ylabel('error')"
   ]
  },
  {
   "cell_type": "code",
   "execution_count": 85,
   "metadata": {},
   "outputs": [
    {
     "data": {
      "image/png": "[encoded data removed]",
      "text/plain": [
       "<Figure size 432x288 with 1 Axes>"
      ]
     },
     "metadata": {
      "needs_background": "light"
     },
     "output_type": "display_data"
    }
   ],
   "source": [
    "center_second_diff()"
   ]
  },
  {
   "cell_type": "markdown",
   "metadata": {},
   "source": [
    "## Exercise 16\n",
    "\n",
    "Write a version of the pendul program that uses Euler-Cromer, leap-frog, and midpoint."
   ]
  },
  {
   "cell_type": "code",
   "execution_count": 138,
   "metadata": {},
   "outputs": [],
   "source": [
    "def pendul_Euler():\n",
    "    ''' Program to compute the motion of a simple pendulum using Euler or Verlet method'''\n",
    "    import numpy as np\n",
    "    import matplotlib.pyplot as plt\n",
    "    \n",
    "    # Select either Euler or Verlet\n",
    "    numericalMethod = int(input('Choose a numerical method (1: Euler-Cromer, 2: Leap-frog, 3: Midpoint): '))\n",
    "    \n",
    "    # Set initial position and velocity\n",
    "    theta0 = float(input('Enter initial angle (degrees): '))\n",
    "    theta = theta0 * np.pi/180       # Convert angle to radians\n",
    "    omega = 0.0\n",
    "    \n",
    "    # Set the physical constants and other variables\n",
    "    g_over_L = 1.0           # The constant g/L\n",
    "    time = 0.0               # Initial time\n",
    "    irev = 0                 # Count for angle reversals\n",
    "    tau = float(input('Enter the time step: '))\n",
    "    \n",
    "    # Compute backward step to start leap-frog\n",
    "    accel = -g_over_L * np.sin(theta)\n",
    "    omega_old = omega - tau * accel\n",
    "    \n",
    "    # Loop over desired number of steps with the given time step and method\n",
    "    nstep = int(input('Enter the desired number of time steps: '))\n",
    "    t_plot = np.empty(nstep)\n",
    "    th_plot = np.empty(nstep)\n",
    "    period = np.empty(nstep)   # Used to record period estimates\n",
    "    \n",
    "    for istep in range(nstep):\n",
    "        accel = -g_over_L * np.sin(theta)\n",
    "        \n",
    "        # Compute new position and velocity\n",
    "        if numericalMethod == 1:    # Euler-Cromer\n",
    "            theta_old = theta\n",
    "            omega += tau * accel\n",
    "            theta = theta_old + tau * omega \n",
    "            t_plot[istep] = time\n",
    "            th_plot[istep] = theta * 180 / np.pi    # Convert angle to degrees\n",
    "            time += tau\n",
    "        elif numericalMethod == 2:  # Leap-frog\n",
    "            omega_old = omega\n",
    "            theta_old = theta\n",
    "            omega = omega_old + 2 * tau * accel\n",
    "            theta = theta_old + 2 * tau * omega\n",
    "            t_plot[istep] = time\n",
    "            th_plot[istep] = theta * 180 / np.pi    # Convert angle to degrees\n",
    "            time += tau * 2\n",
    "        else:  # midpoint\n",
    "            omega_old = omega\n",
    "            theta_old = theta\n",
    "            omega = omega_old + tau * accel\n",
    "            theta = theta_old + tau * omega + 0.5 * accel * tau**2\n",
    "            t_plot[istep] = time\n",
    "            th_plot[istep] = theta * 180 / np.pi    # Convert angle to degrees\n",
    "            time += tau\n",
    "            \n",
    "        # Test if pendulum has passed through theta = 0\n",
    "        # If yes, use time to estimate period\n",
    "        if theta * theta_old < 0:   # Test position for sign change\n",
    "            print(f'Turning point at time t = {time}')\n",
    "            if irev == 0:           # If this is the first sign change\n",
    "                time_old = time\n",
    "            else:\n",
    "                period[irev-1] = 2 * (time - time_old)\n",
    "                time_old = time\n",
    "            irev += 1               # Increment number of reversals\n",
    "            \n",
    "    # Estimate period of oscillation, including error bar\n",
    "    nPeriod = irev - 1              # Number of times period was measured\n",
    "    avgPeriod = np.mean(period[0:nPeriod])\n",
    "    errorBar = np.std(period[0:nPeriod]) / np.sqrt(nPeriod)\n",
    "    print(f'Average period = {avgPeriod:.2f} +/- {errorBar:.2f}')\n",
    "        \n",
    "    # Graph the oscillations as theta vs time\n",
    "    plt.plot(t_plot, th_plot, '+')\n",
    "    plt.xlabel('Time')\n",
    "    plt.ylabel(r'$\\theta$(degrees)')\n",
    "    plt.show()"
   ]
  },
  {
   "cell_type": "code",
   "execution_count": 126,
   "metadata": {},
   "outputs": [
    {
     "name": "stdin",
     "output_type": "stream",
     "text": [
      "Choose a numerical method (1: Euler-Cromer, 2: Leap-frog, 3: Midpoint):  1\n",
      "Enter initial angle (degrees):  10\n",
      "Enter the time step:  0.1\n",
      "Enter the desired number of time steps:  300\n"
     ]
    },
    {
     "name": "stdout",
     "output_type": "stream",
     "text": [
      "Turning point at time t = 1.6000000000000003\n",
      "Turning point at time t = 4.699999999999999\n",
      "Turning point at time t = 7.899999999999988\n",
      "Turning point at time t = 10.999999999999977\n",
      "Turning point at time t = 14.199999999999966\n",
      "Turning point at time t = 17.299999999999976\n",
      "Turning point at time t = 20.50000000000002\n",
      "Turning point at time t = 23.600000000000065\n",
      "Turning point at time t = 26.70000000000011\n",
      "Turning point at time t = 29.900000000000155\n",
      "Average period = 6.29 +/- 0.03\n"
     ]
    },
    {
     "data": {
      "image/png": "[encoded data removed]",
      "text/plain": [
       "<Figure size 432x288 with 1 Axes>"
      ]
     },
     "metadata": {
      "needs_background": "light"
     },
     "output_type": "display_data"
    }
   ],
   "source": [
    "pendul_Euler()"
   ]
  },
  {
   "cell_type": "markdown",
   "metadata": {},
   "source": [
    "Euler-Cromer appears to be stable. Using the same conditions for leap-frog:"
   ]
  },
  {
   "cell_type": "code",
   "execution_count": 139,
   "metadata": {},
   "outputs": [
    {
     "name": "stdin",
     "output_type": "stream",
     "text": [
      "Choose a numerical method (1: Euler-Cromer, 2: Leap-frog, 3: Midpoint):  2\n",
      "Enter initial angle (degrees):  10\n",
      "Enter the time step:  0.1\n",
      "Enter the desired number of time steps:  150\n"
     ]
    },
    {
     "name": "stdout",
     "output_type": "stream",
     "text": [
      "Turning point at time t = 1.5999999999999999\n",
      "Turning point at time t = 4.800000000000002\n",
      "Turning point at time t = 7.800000000000004\n",
      "Turning point at time t = 10.999999999999993\n",
      "Turning point at time t = 14.199999999999982\n",
      "Turning point at time t = 17.19999999999997\n",
      "Turning point at time t = 20.39999999999996\n",
      "Turning point at time t = 23.599999999999948\n",
      "Turning point at time t = 26.799999999999937\n",
      "Turning point at time t = 29.799999999999926\n",
      "Average period = 6.27 +/- 0.06\n"
     ]
    },
    {
     "data": {
      "image/png": "[encoded data removed]",
      "text/plain": [
       "<Figure size 432x288 with 1 Axes>"
      ]
     },
     "metadata": {
      "needs_background": "light"
     },
     "output_type": "display_data"
    }
   ],
   "source": [
    "pendul_Euler()"
   ]
  },
  {
   "cell_type": "markdown",
   "metadata": {},
   "source": [
    "For the leap-frog method, the solution is advanced by two time steps each iteration. Therefore, to get the same number of cycles, we needed to select half of the number of time steps (150 instead of 300). This changed the accuracy of the period. If, instead, we select 300 time steps:"
   ]
  },
  {
   "cell_type": "code",
   "execution_count": 140,
   "metadata": {},
   "outputs": [
    {
     "name": "stdin",
     "output_type": "stream",
     "text": [
      "Choose a numerical method (1: Euler-Cromer, 2: Leap-frog, 3: Midpoint):  2\n",
      "Enter initial angle (degrees):  10\n",
      "Enter the time step:  0.1\n",
      "Enter the desired number of time steps:  300\n"
     ]
    },
    {
     "name": "stdout",
     "output_type": "stream",
     "text": [
      "Turning point at time t = 1.5999999999999999\n",
      "Turning point at time t = 4.800000000000002\n",
      "Turning point at time t = 7.800000000000004\n",
      "Turning point at time t = 10.999999999999993\n",
      "Turning point at time t = 14.199999999999982\n",
      "Turning point at time t = 17.19999999999997\n",
      "Turning point at time t = 20.39999999999996\n",
      "Turning point at time t = 23.599999999999948\n",
      "Turning point at time t = 26.799999999999937\n",
      "Turning point at time t = 29.799999999999926\n",
      "Turning point at time t = 32.99999999999993\n",
      "Turning point at time t = 36.199999999999974\n",
      "Turning point at time t = 39.20000000000002\n",
      "Turning point at time t = 42.40000000000006\n",
      "Turning point at time t = 45.60000000000011\n",
      "Turning point at time t = 48.80000000000015\n",
      "Turning point at time t = 51.800000000000196\n",
      "Turning point at time t = 55.00000000000024\n",
      "Turning point at time t = 58.20000000000029\n",
      "Average period = 6.29 +/- 0.04\n"
     ]
    },
    {
     "data": {
      "image/png": "[encoded data removed]",
      "text/plain": [
       "<Figure size 432x288 with 1 Axes>"
      ]
     },
     "metadata": {
      "needs_background": "light"
     },
     "output_type": "display_data"
    }
   ],
   "source": [
    "pendul_Euler()"
   ]
  },
  {
   "cell_type": "markdown",
   "metadata": {},
   "source": [
    "The time of oscillation doubles from 30 seconds to 60 seconds, but the period estimation improves. Now, for midpoint:"
   ]
  },
  {
   "cell_type": "code",
   "execution_count": 141,
   "metadata": {},
   "outputs": [
    {
     "name": "stdin",
     "output_type": "stream",
     "text": [
      "Choose a numerical method (1: Euler-Cromer, 2: Leap-frog, 3: Midpoint):  3\n",
      "Enter initial angle (degrees):  10\n",
      "Enter the time step:  0.1\n",
      "Enter the desired number of time steps:  300\n"
     ]
    },
    {
     "name": "stdout",
     "output_type": "stream",
     "text": [
      "Turning point at time t = 1.5000000000000002\n",
      "Turning point at time t = 4.699999999999999\n",
      "Turning point at time t = 7.799999999999988\n",
      "Turning point at time t = 10.999999999999977\n",
      "Turning point at time t = 14.099999999999966\n",
      "Turning point at time t = 17.299999999999976\n",
      "Turning point at time t = 20.40000000000002\n",
      "Turning point at time t = 23.500000000000064\n",
      "Turning point at time t = 26.70000000000011\n",
      "Turning point at time t = 29.800000000000153\n",
      "Average period = 6.29 +/- 0.03\n"
     ]
    },
    {
     "data": {
      "image/png": "[encoded data removed]",
      "text/plain": [
       "<Figure size 432x288 with 1 Axes>"
      ]
     },
     "metadata": {
      "needs_background": "light"
     },
     "output_type": "display_data"
    }
   ],
   "source": [
    "pendul_Euler()"
   ]
  },
  {
   "cell_type": "markdown",
   "metadata": {},
   "source": [
    "Midpoint appears to have exponentially decreasing oscillations. The energy of the pendulum decreases with each cycle. For fun, let's give it more cycles to run to see if it runs out of energy."
   ]
  },
  {
   "cell_type": "code",
   "execution_count": 142,
   "metadata": {},
   "outputs": [
    {
     "name": "stdin",
     "output_type": "stream",
     "text": [
      "Choose a numerical method (1: Euler-Cromer, 2: Leap-frog, 3: Midpoint):  3\n",
      "Enter initial angle (degrees):  10\n",
      "Enter the time step:  0.1\n",
      "Enter the desired number of time steps:  3000\n"
     ]
    },
    {
     "name": "stdout",
     "output_type": "stream",
     "text": [
      "Turning point at time t = 1.5000000000000002\n",
      "Turning point at time t = 4.699999999999999\n",
      "Turning point at time t = 7.799999999999988\n",
      "Turning point at time t = 10.999999999999977\n",
      "Turning point at time t = 14.099999999999966\n",
      "Turning point at time t = 17.299999999999976\n",
      "Turning point at time t = 20.40000000000002\n",
      "Turning point at time t = 23.500000000000064\n",
      "Turning point at time t = 26.70000000000011\n",
      "Turning point at time t = 29.800000000000153\n",
      "Turning point at time t = 32.9000000000002\n",
      "Turning point at time t = 36.10000000000024\n",
      "Turning point at time t = 39.20000000000029\n",
      "Turning point at time t = 42.40000000000033\n",
      "Turning point at time t = 45.50000000000038\n",
      "Turning point at time t = 48.60000000000042\n",
      "Turning point at time t = 51.800000000000466\n",
      "Turning point at time t = 54.90000000000051\n",
      "Turning point at time t = 58.100000000000556\n",
      "Turning point at time t = 61.2000000000006\n",
      "Turning point at time t = 64.30000000000062\n",
      "Turning point at time t = 67.50000000000044\n",
      "Turning point at time t = 70.60000000000026\n",
      "Turning point at time t = 73.70000000000009\n",
      "Turning point at time t = 76.8999999999999\n",
      "Turning point at time t = 79.99999999999973\n",
      "Turning point at time t = 83.19999999999955\n",
      "Turning point at time t = 86.29999999999937\n",
      "Turning point at time t = 89.3999999999992\n",
      "Turning point at time t = 92.59999999999901\n",
      "Turning point at time t = 95.69999999999884\n",
      "Turning point at time t = 98.79999999999866\n",
      "Turning point at time t = 101.99999999999848\n",
      "Turning point at time t = 105.0999999999983\n",
      "Turning point at time t = 108.29999999999812\n",
      "Turning point at time t = 111.39999999999795\n",
      "Turning point at time t = 114.49999999999777\n",
      "Turning point at time t = 117.69999999999759\n",
      "Turning point at time t = 120.79999999999741\n",
      "Turning point at time t = 123.89999999999723\n",
      "Turning point at time t = 127.09999999999705\n",
      "Turning point at time t = 130.1999999999969\n",
      "Turning point at time t = 133.29999999999671\n",
      "Turning point at time t = 136.49999999999653\n",
      "Turning point at time t = 139.59999999999636\n",
      "Turning point at time t = 142.79999999999617\n",
      "Turning point at time t = 145.899999999996\n",
      "Turning point at time t = 148.99999999999582\n",
      "Turning point at time t = 152.19999999999564\n",
      "Turning point at time t = 155.29999999999546\n",
      "Turning point at time t = 158.3999999999953\n",
      "Turning point at time t = 161.5999999999951\n",
      "Turning point at time t = 164.69999999999493\n",
      "Turning point at time t = 167.89999999999475\n",
      "Turning point at time t = 170.99999999999457\n",
      "Turning point at time t = 174.0999999999944\n",
      "Turning point at time t = 177.2999999999942\n",
      "Turning point at time t = 180.39999999999404\n",
      "Turning point at time t = 183.49999999999386\n",
      "Turning point at time t = 186.69999999999368\n",
      "Turning point at time t = 189.7999999999935\n",
      "Turning point at time t = 192.99999999999332\n",
      "Turning point at time t = 196.09999999999314\n",
      "Turning point at time t = 199.19999999999297\n",
      "Turning point at time t = 202.3999999999928\n",
      "Turning point at time t = 205.4999999999926\n",
      "Turning point at time t = 208.59999999999243\n",
      "Turning point at time t = 211.79999999999225\n",
      "Turning point at time t = 214.89999999999208\n",
      "Turning point at time t = 218.0999999999919\n",
      "Turning point at time t = 221.19999999999172\n",
      "Turning point at time t = 224.29999999999154\n",
      "Turning point at time t = 227.49999999999136\n",
      "Turning point at time t = 230.59999999999118\n",
      "Turning point at time t = 233.699999999991\n",
      "Turning point at time t = 236.89999999999083\n",
      "Turning point at time t = 239.99999999999065\n",
      "Turning point at time t = 243.19999999999047\n",
      "Turning point at time t = 246.2999999999903\n",
      "Turning point at time t = 249.39999999999011\n",
      "Turning point at time t = 252.59999999998993\n",
      "Turning point at time t = 255.69999999998976\n",
      "Turning point at time t = 258.79999999999035\n",
      "Turning point at time t = 261.9999999999911\n",
      "Turning point at time t = 265.0999999999918\n",
      "Turning point at time t = 268.2999999999925\n",
      "Turning point at time t = 271.3999999999932\n",
      "Turning point at time t = 274.4999999999939\n",
      "Turning point at time t = 277.69999999999465\n",
      "Turning point at time t = 280.79999999999535\n",
      "Turning point at time t = 283.89999999999606\n",
      "Turning point at time t = 287.0999999999968\n",
      "Turning point at time t = 290.1999999999975\n",
      "Turning point at time t = 293.3999999999982\n",
      "Turning point at time t = 296.4999999999989\n",
      "Turning point at time t = 299.5999999999996\n",
      "Average period = 6.28 +/- 0.01\n"
     ]
    },
    {
     "data": {
      "image/png": "[encoded data removed]",
      "text/plain": [
       "<Figure size 432x288 with 1 Axes>"
      ]
     },
     "metadata": {
      "needs_background": "light"
     },
     "output_type": "display_data"
    }
   ],
   "source": [
    "pendul_Euler()"
   ]
  },
  {
   "cell_type": "markdown",
   "metadata": {},
   "source": [
    "## Exercise 17\n",
    "\n",
    "Obtain a plot of the period T versus the initial angle $\\theta$."
   ]
  },
  {
   "cell_type": "code",
   "execution_count": 167,
   "metadata": {},
   "outputs": [],
   "source": [
    "def period():\n",
    "    ''' Program to compute the motion of a simple pendulum using Euler or Verlet method'''\n",
    "    import numpy as np\n",
    "    import matplotlib.pyplot as plt\n",
    "    \n",
    "    # Set initial velocity and range of initial positions\n",
    "    theta0 = np.arange(10, 170, 10)\n",
    "    theta0 = theta0 * np.pi / 180.   # Convert to radians\n",
    "    omega = 0.0\n",
    "    \n",
    "    # Set the physical constants and other variables\n",
    "    g_over_L = 1.0           # The constant g/L\n",
    "    time = 0.0               # Initial time\n",
    "    irev = 0                 # Count for angle reversals\n",
    "    tau = float(input('Enter the time step: '))\n",
    "    \n",
    "    # Take one backward step to start Verlet\n",
    "    accel = -g_over_L * np.sin(theta0)\n",
    "    theta_old = theta0 - tau * omega + (tau**2 / 2.) * accel\n",
    "    \n",
    "    # Loop over desired number of steps with the given time step and method\n",
    "    nstep = int(input('Enter the desired number of time steps: '))\n",
    "    t_plot = np.empty(nstep)\n",
    "    th_plot = np.empty(nstep)\n",
    "    period = np.empty(nstep)  # Used to record period estimates\n",
    "    periods = np.empty(len(theta0))\n",
    "    for index, theta in enumerate(theta0):\n",
    "        for istep in range(nstep):\n",
    "\n",
    "            # Record angle and time for plotting\n",
    "            t_plot[istep] = time\n",
    "            th_plot[istep] = theta * 180 / np.pi    # Convert angle to degrees\n",
    "            time += tau\n",
    "\n",
    "            # Compute new position and velocity, Verlet method\n",
    "            accel = -g_over_L * np.sin(theta)\n",
    "            theta_new = 2 * theta - theta_old[index] + tau**2 * accel\n",
    "            theta_old[index] = theta   \n",
    "            theta = theta_new\n",
    "\n",
    "            # Test if pendulum has passed through theta = 0\n",
    "            # If yes, use time to estimate period\n",
    "            if theta * theta_old[index] < 0:   # Test position for sign change\n",
    "                #print(f'Turning point at time t = {time}')\n",
    "                if irev == 0:           # If this is the first sign change\n",
    "                    time_old = time\n",
    "                else:\n",
    "                    period[irev-1] = 2 * (time - time_old)\n",
    "                    time_old = time\n",
    "                irev += 1               # Increment number of reversals\n",
    "        # Estimate period of oscillation, including error bar\n",
    "        nPeriod = irev - 1              # Number of times period was measured\n",
    "        avgPeriod = np.mean(period[0:nPeriod])\n",
    "        errorBar = np.std(period[0:nPeriod]) / np.sqrt(nPeriod)\n",
    "        print(f'theta = {theta0[index]*180/np.pi:.2f}')\n",
    "        print(f'Average period = {avgPeriod:.2f} +/- {errorBar:.2f}')\n",
    "        periods[index] = avgPeriod\n",
    "        \n",
    "    # Graph the oscillations as theta vs time\n",
    "    plt.plot(theta0 * 180/np.pi, periods, '+')\n",
    "    plt.xlabel(r'$\\theta$(degrees)')\n",
    "    plt.ylabel('Period (sec)')\n",
    "    plt.show()\n",
    "    return periods, theta0"
   ]
  },
  {
   "cell_type": "code",
   "execution_count": 168,
   "metadata": {},
   "outputs": [
    {
     "name": "stdin",
     "output_type": "stream",
     "text": [
      "Enter the time step:  0.1\n",
      "Enter the desired number of time steps:  300\n"
     ]
    },
    {
     "name": "stdout",
     "output_type": "stream",
     "text": [
      "theta = 10.00\n",
      "Average period = 6.29 +/- 0.03\n",
      "theta = 20.00\n",
      "Average period = 6.14 +/- 0.16\n",
      "theta = 30.00\n",
      "Average period = 6.34 +/- 0.16\n",
      "theta = 40.00\n",
      "Average period = 6.44 +/- 0.14\n",
      "theta = 50.00\n",
      "Average period = 6.51 +/- 0.12\n",
      "theta = 60.00\n",
      "Average period = 6.56 +/- 0.10\n",
      "theta = 70.00\n",
      "Average period = 6.60 +/- 0.09\n",
      "theta = 80.00\n",
      "Average period = 6.63 +/- 0.08\n",
      "theta = 90.00\n",
      "Average period = 6.74 +/- 0.09\n",
      "theta = 100.00\n",
      "Average period = 6.84 +/- 0.09\n",
      "theta = 110.00\n",
      "Average period = 6.91 +/- 0.09\n",
      "theta = 120.00\n",
      "Average period = 7.06 +/- 0.10\n",
      "theta = 130.00\n",
      "Average period = 7.17 +/- 0.11\n",
      "theta = 140.00\n",
      "Average period = 7.36 +/- 0.13\n",
      "theta = 150.00\n",
      "Average period = 7.52 +/- 0.14\n",
      "theta = 160.00\n",
      "Average period = 7.75 +/- 0.17\n"
     ]
    },
    {
     "data": {
      "image/png": "[encoded data removed]",
      "text/plain": [
       "<Figure size 432x288 with 1 Axes>"
      ]
     },
     "metadata": {
      "needs_background": "light"
     },
     "output_type": "display_data"
    }
   ],
   "source": [
    "verlet_period, theta = period()"
   ]
  },
  {
   "cell_type": "code",
   "execution_count": 169,
   "metadata": {},
   "outputs": [
    {
     "data": {
      "text/plain": [
       "array([6.28888889, 6.14444444, 6.34074074, 6.44444444, 6.51111111,\n",
       "       6.55925926, 6.6       , 6.62535211, 6.74177215, 6.83908046,\n",
       "       6.91276596, 7.05940594, 7.17383178, 7.36283186, 7.51525424,\n",
       "       7.75284553])"
      ]
     },
     "execution_count": 169,
     "metadata": {},
     "output_type": "execute_result"
    }
   ],
   "source": [
    "verlet_period"
   ]
  },
  {
   "cell_type": "code",
   "execution_count": 170,
   "metadata": {},
   "outputs": [
    {
     "data": {
      "text/plain": [
       "array([0.17453293, 0.34906585, 0.52359878, 0.6981317 , 0.87266463,\n",
       "       1.04719755, 1.22173048, 1.3962634 , 1.57079633, 1.74532925,\n",
       "       1.91986218, 2.0943951 , 2.26892803, 2.44346095, 2.61799388,\n",
       "       2.7925268 ])"
      ]
     },
     "execution_count": 170,
     "metadata": {},
     "output_type": "execute_result"
    }
   ],
   "source": [
    "theta"
   ]
  },
  {
   "cell_type": "code",
   "execution_count": 171,
   "metadata": {},
   "outputs": [],
   "source": [
    "small_angle_period = 2 * np.pi * (1 + theta**2/16)"
   ]
  },
  {
   "cell_type": "code",
   "execution_count": 172,
   "metadata": {},
   "outputs": [
    {
     "data": {
      "text/plain": [
       "array([6.29514761, 6.3310345 , 6.39084599, 6.47458208, 6.58224276,\n",
       "       6.71382804, 6.86933791, 7.04877239, 7.25213145, 7.47941512,\n",
       "       7.73062338, 8.00575623, 8.30481369, 8.62779574, 8.97470238,\n",
       "       9.34553362])"
      ]
     },
     "execution_count": 172,
     "metadata": {},
     "output_type": "execute_result"
    }
   ],
   "source": [
    "small_angle_period"
   ]
  },
  {
   "cell_type": "code",
   "execution_count": 176,
   "metadata": {},
   "outputs": [
    {
     "data": {
      "text/plain": [
       "<matplotlib.legend.Legend at 0x117c49450>"
      ]
     },
     "execution_count": 176,
     "metadata": {},
     "output_type": "execute_result"
    },
    {
     "data": {
      "image/png": "[encoded data removed]",
      "text/plain": [
       "<Figure size 432x288 with 1 Axes>"
      ]
     },
     "metadata": {
      "needs_background": "light"
     },
     "output_type": "display_data"
    }
   ],
   "source": [
    "plt.plot(theta*180/np.pi, verlet_period, '+', label='verlet period')\n",
    "plt.plot(theta*180/np.pi, small_angle_period, '*', label='small angle approximation')\n",
    "plt.hlines(2*np.pi, theta[0]*180/np.pi, theta[-1]*180/np.pi)\n",
    "plt.xlabel(r'initial $\\theta$ (degrees)')\n",
    "plt.ylabel('Period (sec)')\n",
    "plt.legend()"
   ]
  },
  {
   "cell_type": "code",
   "execution_count": 177,
   "metadata": {},
   "outputs": [],
   "source": [
    "error = np.abs(verlet_period - small_angle_period)/small_angle_period * 100"
   ]
  },
  {
   "cell_type": "code",
   "execution_count": 178,
   "metadata": {},
   "outputs": [
    {
     "data": {
      "text/plain": [
       "Text(0, 0.5, 'error (%)')"
      ]
     },
     "execution_count": 178,
     "metadata": {},
     "output_type": "execute_result"
    },
    {
     "data": {
      "image/png": "[encoded data removed]",
      "text/plain": [
       "<Figure size 432x288 with 1 Axes>"
      ]
     },
     "metadata": {
      "needs_background": "light"
     },
     "output_type": "display_data"
    }
   ],
   "source": [
    "plt.plot(theta*180/np.pi, error, '+', label='error')\n",
    "plt.xlabel(r'initial $\\theta$ (degrees)')\n",
    "plt.ylabel('error (%)')"
   ]
  },
  {
   "cell_type": "markdown",
   "metadata": {},
   "source": [
    "The error is relative to the small angle approximation. It looks like the small angle approximation provides less than 10% error up to an angle of 110 degrees. With the selection of $g/L = 1$, the first approximation to the period is always $2\\pi$, whose error is shown below:"
   ]
  },
  {
   "cell_type": "code",
   "execution_count": 185,
   "metadata": {},
   "outputs": [
    {
     "data": {
      "text/plain": [
       "array([ 0.09077532,  2.20812941,  0.91602318,  2.56651888,  3.62755184,\n",
       "        4.39385341,  5.04226244,  5.44575385,  7.29863632,  8.84734614,\n",
       "       10.02008726, 12.35393507, 14.1750788 , 17.18310854, 19.60898605,\n",
       "       23.39036889])"
      ]
     },
     "execution_count": 185,
     "metadata": {},
     "output_type": "execute_result"
    }
   ],
   "source": [
    "np.abs(2*np.pi - verlet_period) / (2*np.pi) * 100"
   ]
  },
  {
   "cell_type": "markdown",
   "metadata": {},
   "source": [
    "Again, it's only until an angle of about 110 degrees before the error reaches 10%. Because the small angle period increases faster than the verlet period, the approximation of $2\\pi$ for the period is actually a better approximation than including the other terms until large angles.\n",
    "\n",
    "## Exercise 18\n",
    "\n",
    "Modify the pendulum function so that it plots $\\omega(t)$ vs $\\theta(t)$. Instead of a fixed number of steps, stop the program after one period."
   ]
  },
  {
   "cell_type": "code",
   "execution_count": 123,
   "metadata": {},
   "outputs": [],
   "source": [
    "def pendul_phase():\n",
    "    ''' Program to compute the motion of a simple pendulum using Verlet method'''\n",
    "    ''' Still need to add computations for omega, and collect theta and omega. The period will\n",
    "    just be the total time.\n",
    "    '''\n",
    "    import numpy as np\n",
    "    import matplotlib.pyplot as plt\n",
    "    \n",
    "    \n",
    "    # Set initial position and velocity\n",
    "    theta0 = float(input('Enter initial angle (degrees): '))\n",
    "    theta = theta0 * np.pi/180       # Convert angle to radians\n",
    "    omega = 0.0\n",
    "    \n",
    "    # Set the physical constants and other variables\n",
    "    g_over_L = 1.0           # The constant g/L\n",
    "    time = 0.0               # Initial time\n",
    "    tau = float(input('Enter the time step: '))\n",
    "    \n",
    "    # Take one backward step to start Verlet\n",
    "    accel = -g_over_L * np.sin(theta)\n",
    "    theta_old = theta - tau * omega + (tau**2 / 2.) * accel\n",
    "    \n",
    "    flag = True\n",
    "    t_plot = []\n",
    "    th_plot = []\n",
    "    omega_plot = []\n",
    "    counter = 0\n",
    "    \n",
    "    while flag:\n",
    "        theta_tol = 0.05\n",
    "        # Record angle and time for plotting\n",
    "        t_plot.append(time)\n",
    "        th_plot.append(theta * 180 / np.pi)    # Convert angle to degrees\n",
    "        omega_plot.append(omega)\n",
    "        time += tau\n",
    "        \n",
    "        # Compute new position and velocity\n",
    "        accel = -g_over_L * np.sin(theta)\n",
    "        theta_new = 2 * theta - theta_old + tau**2 * accel\n",
    "        omega = (theta_new - theta_old) / (2 * tau)\n",
    "        theta_old = theta       # Verlet method\n",
    "        theta = theta_new\n",
    "        theta_diff = theta0 - theta * 180 / np.pi\n",
    "        \n",
    "        if time > 50*tau and theta_diff < theta_tol:\n",
    "            flag = False\n",
    "        if counter % 10 == 0:\n",
    "            print(f'Theta diff = {theta_diff}')\n",
    "            print(f'Counter: {counter}')\n",
    "            \n",
    "        counter += 1   \n",
    "            \n",
    "    # Estimate period of oscillation, including error bar\n",
    "    period = t_plot[-1] - t_plot[0]\n",
    "    print(f'Period: {period:.2f} sec')\n",
    "        \n",
    "    # Graph the oscillations as theta vs time\n",
    "    plt.plot(omega_plot[0]*180/np.pi, th_plot[0], 'ro')\n",
    "    plt.plot(omega_plot[-1]*180/np.pi, th_plot[-1], 'go')\n",
    "    plt.plot(np.array(omega_plot)*(180/np.pi), th_plot, '+')\n",
    "    plt.xlabel('Angular velocity (deg/sec)')\n",
    "    plt.ylabel(r'$\\theta$(degrees)')\n",
    "    plt.show()\n",
    "    \n",
    "    return th_plot, omega_plot"
   ]
  },
  {
   "cell_type": "code",
   "execution_count": 124,
   "metadata": {},
   "outputs": [
    {
     "name": "stdin",
     "output_type": "stream",
     "text": [
      "Enter initial angle (degrees):  45\n",
      "Enter the time step:  0.1\n"
     ]
    },
    {
     "name": "stdout",
     "output_type": "stream",
     "text": [
      "Theta diff = 0.20257117113535372\n",
      "Counter: 0\n",
      "Theta diff = 22.701541834456947\n",
      "Counter: 10\n",
      "Theta diff = 64.75737310425708\n",
      "Counter: 20\n",
      "Theta diff = 89.4429357630128\n",
      "Counter: 30\n",
      "Theta diff = 76.49283209363696\n",
      "Counter: 40\n",
      "Theta diff = 36.235327098550854\n",
      "Counter: 50\n",
      "Theta diff = 3.7379134992391343\n",
      "Counter: 60\n",
      "Period: 6.40 sec\n"
     ]
    },
    {
     "data": {
      "image/png": "[encoded data removed]",
      "text/plain": [
       "<Figure size 432x288 with 1 Axes>"
      ]
     },
     "metadata": {
      "needs_background": "light"
     },
     "output_type": "display_data"
    }
   ],
   "source": [
    "th, om = pendul_phase()"
   ]
  },
  {
   "cell_type": "markdown",
   "metadata": {},
   "source": [
    "Here, I used a flag to break the while loop when the pendulum returned to near its original position, specified by a tolerance. I also needed to let the pendulum get away from its initial position, so the while loop would only break if at least 50 time steps had elapsed."
   ]
  },
  {
   "cell_type": "code",
   "execution_count": 121,
   "metadata": {},
   "outputs": [
    {
     "data": {
      "text/plain": [
       "9.972970653977901"
      ]
     },
     "execution_count": 121,
     "metadata": {},
     "output_type": "execute_result"
    }
   ],
   "source": [
    "max(om)*180/np.pi"
   ]
  },
  {
   "cell_type": "code",
   "execution_count": null,
   "metadata": {},
   "outputs": [],
   "source": []
  }
 ],
 "metadata": {
  "kernelspec": {
   "display_name": "Python 3",
   "language": "python",
   "name": "python3"
  },
  "language_info": {
   "codemirror_mode": {
    "name": "ipython",
    "version": 3
   },
   "file_extension": ".py",
   "mimetype": "text/x-python",
   "name": "python",
   "nbconvert_exporter": "python",
   "pygments_lexer": "ipython3",
   "version": "3.7.6"
  }
 },
 "nbformat": 4,
 "nbformat_minor": 4
}
