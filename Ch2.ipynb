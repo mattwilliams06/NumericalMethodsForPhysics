{
 "cells": [
  {
   "cell_type": "markdown",
   "metadata": {},
   "source": [
    "# Projectile Motion\n",
    "\n",
    "This section will look at solving the projectile motion of a baseball. Without air resistance, the problem can be solved with elementary physics. With air resistance, however, we must resort to numerical methods. \n",
    "\n",
    "The equation of motion for the baseball is:\n",
    "\n",
    "$$ \\frac{dv}{dt} = \\frac{1}{m}F_a(v) - g\\hat y $$\n",
    "\n",
    "The force of air resistance is a function of the velocity. The last term is the gravitational acceleration multiplied by the unit vector in the y-direction. The force from air resistance is often approximated as:\n",
    "\n",
    "$$ F_a = -\\frac{1}{2}C_d\\rho A |v|v $$\n",
    "\n",
    "The drag coefficient of a baseball is dependent on its Reynolds number. Its drag coefficient is also typically lower than that of a smooth sphere because the stitching disrupts laminar flow around the ball, precipitating the onset of turbulence. At low Reynolds numbers, the drag coefficient is dependent on the Re itself. At higher Re, vortex shedding maintains a nearly constant drag coefficient of about 0.5. At the critical Re (approximately $3x10^{5}$ for a smooth sphere), turbulent flow disrupts the low pressure region in the wake behind the sphere.\n",
    "\n",
    "A baseball's mass and diameter are 0.145 kg and 7.4 cm.\n",
    "\n",
    "## Forward Derivative\n",
    "\n",
    "Performing the numerical analysis requires computation of the derivative. The derivative is defined as:\n",
    "\n",
    "$$ f'(x) = \\lim_{\\tau \\to 0} \\frac{f(t + \\tau) - f(t)}{\\tau} $$\n",
    "\n",
    "A special version of a Taylor expansion can be used where:\n",
    "\n",
    "$$ f(t + \\tau) = f(t) + \\tau f'(t) + \\frac{\\tau^2}{2}f''(\\zeta) $$\n",
    "\n",
    "Where $\\zeta$ is a value between $t$ and $t + \\tau$. The above expression can be rewritten as:\n",
    "\n",
    "$$ f'(t) = \\frac{f(t + \\tau) - f(t)}{\\tau} - \\frac{1}{2}\\tau f''(\\zeta) $$\n",
    "\n",
    "The last term is the truncation error. If the term is kept, the expression for $f'(t)$ is exact. But, we can't compute that term, because we don't know what $\\zeta$ is. But, we can bound the error, because we know the limits: $\\zeta$ is somewhere between $t$ and $t + \\tau$.\n",
    "\n",
    "## Euler's Method\n",
    "\n",
    "The equations of motion to be solved, generally, are:\n",
    "\n",
    "$$\\frac{dv}{dt} = a(r, v); \\frac{dr}{dt} = v $$\n",
    "\n",
    "In projectile motion, the acceleration is only a function of $v$ because of air resistance. In later sections, such as the motions of comets, acceleration will also be a function of position.\n",
    "\n",
    "Using the forward derivative, the equations of motion are:\n",
    "\n",
    "$$ \\frac{v(t + \\tau) - v(t)}{\\tau} + O(\\tau) = a(r(t), v(t)) $$\n",
    "\n",
    "$$ \\frac{r(t + \\tau) - r(t)}{\\tau} + O(\\tau) = v(t) $$\n",
    "\n",
    "Which, when rearranged, evaluate to:\n",
    "\n",
    "$$ v(t + \\tau) = v(t) + \\tau a(r(t), v(t)) + O(\\tau^2) $$\n",
    "\n",
    "$$ r(t + \\tau) = r(t) + \\tau v(t) + O(\\tau^2) $$\n",
    "\n",
    "How is Euler's method implemented in practice? First, a change in notation. $f_n = f(t_n); t_n = n\\tau; n = 0, 1, ...$, so $f_0 = f(t=0)$. Dropping the error term from above, our updates become:\n",
    "\n",
    "$$v_{n+1} = v_n + \\tau a_n$$\n",
    "\n",
    "$$r_{n+1} = r_n + \\tau v_n$$\n",
    "\n",
    "The calculation of the trajectory proceeds as follows:\n",
    "\n",
    "1. Specify the initial conditions, $r_0$ and $v_0$. \n",
    "2. Choose a time step $\\tau$.\n",
    "3. Calculate the acceleration given the current r and v.\n",
    "4. Use the previous two equations to update r and v.\n",
    "5. Proceed back to step 3 and continue until the desired number of trajectory points have been calculated.\n",
    "\n",
    "An alternative to the Euler method is the _Euler-Cromer_ method, which uses the updated velocity to update the position. This changes the second equation to be:\n",
    "\n",
    "$$r_{n+1} = r_n + \\tau v_{n+1}$$\n",
    "\n",
    "Additionally, the _midpoint method_ also changes the position equation. For the midpoint method, the second equation becomes:\n",
    "\n",
    "$$r_{n+1} = r_n + \\tau \\frac{v_{n+1} + v_n}{2}$$\n",
    "\n",
    "which is obviously an average of the second term of the Euler and Euler-Cromer methods. Inserting the equation for velocity into the midpoint method returns the familiar projectile equation:\n",
    "\n",
    "$$ r_{n+1} = r_n + \\tau v_n + \\frac{1}{2}a_n \\tau^2 $$\n",
    "\n",
    "By making some comparisons to equations in the book, we can see that the error is on the order of $\\tau^2 a$. If the acceleration were $10 m/s^2$, then the single-step truncation error would be $10^{-1} m$ for $\\tau = 10^{-1} s$.\n",
    "\n",
    "For implementing trajectory analysis using the Euler method:\n",
    "\n",
    "1. Set initial position $r_0$ and initial velocity $v_0$.\n",
    "2. Set the physical parameters ($m, C_d$, etc.)\n",
    "3. Loop until the ball hits the ground or maximum steps are completed\n",
    "    - Record position for plotting\n",
    "    - Compute acceleration\n",
    "    - Calaulate the new position and velocity\n",
    "    - If the ball reaches the ground (y < 0), break the loop\n",
    "4. Print max range and time of flight\n",
    "5. Graph the trajectory"
   ]
  },
  {
   "cell_type": "code",
   "execution_count": 3,
   "metadata": {},
   "outputs": [],
   "source": [
    "import numpy as np"
   ]
  },
  {
   "cell_type": "code",
   "execution_count": 116,
   "metadata": {},
   "outputs": [],
   "source": [
    "def balle():\n",
    "    ''' Function to compute the trajectory of a baseball using the Euler method'''\n",
    "    ''' The drag coefficient is calculated using quadratic interpolation based on information\n",
    "    given for Cd vs speeds between 0 and 55.9 m/s (125 mph). Therefore, speeds above 125 mph\n",
    "    will lead to inaccurate results.\n",
    "    '''\n",
    "    import numpy as np\n",
    "    import matplotlib.pyplot as plt\n",
    "    \n",
    "    ## Set initial position and velocity of the baseball\n",
    "    y0 = float(input('Enter initial height (meters): '))\n",
    "    r0 = np.array([0, y0]) # initial position vector\n",
    "    speed = float(input('Enter initial speed (m/s): '))\n",
    "    theta = float(input('Enter initial angle (degrees): '))\n",
    "    v0 = np.array([speed * np.cos(theta*np.pi/180), \n",
    "                  speed * np.sin(theta*np.pi/180)]) # vector components of speed\n",
    "    r = np.copy(r0)\n",
    "    v = np.copy(v0)\n",
    "    \n",
    "    ## Set physical parameters\n",
    "    #Cd = 0.35          # drag coefficient\n",
    "    area = 4.3e-3      # cross-sectional area (m^2)\n",
    "    grav = 9.81        # gravitational acceleration (m/s^2)\n",
    "    mass = .145       # mass of projectile (kg)\n",
    "    airFlag = int(input('Air resistance? (Yes: 1, No: 0)'))\n",
    "    if airFlag:\n",
    "        rho = 1.2      # density of air (kg/m^3)\n",
    "    else:\n",
    "        rho = 0\n",
    "    \n",
    "    ## Loop until ball hits the ground or max steps completed\n",
    "    tau = float(input('Enter time step (sec): '))    # time step (sec)\n",
    "    maxstep = 1000      # max number of time steps\n",
    "    xplot = np.empty(maxstep)\n",
    "    yplot = np.empty(maxstep)\n",
    "    xNoAir = np.empty(maxstep)\n",
    "    yNoAir = np.empty(maxstep)\n",
    "    \n",
    "    for istep in range(maxstep):\n",
    "        # Interpolate Cd based on speed\n",
    "        speed = np.linalg.norm(v)\n",
    "        if speed <= 22.4:\n",
    "            Cd = 0.5\n",
    "        elif speed > 22.4 and speed <= 44.7:\n",
    "            v_interp = np.array([22.4, 33.5, 44.7])\n",
    "            Cd_interp = np.array([0.5, 0.4, 0.28])\n",
    "            Cd = interp_Cd(v_interp, Cd_interp, speed)\n",
    "        else:\n",
    "            v_interp = np.array([33.5, 44.7, 55.9])\n",
    "            Cd_interp = np.array([0.4, 0.28, 0.23])\n",
    "            Cd = interp_Cd(v_interp, Cd_interp, speed)\n",
    "            \n",
    "        \n",
    "        air_const = -0.5 * Cd * rho * area / mass  # air resistance constant based on Cd\n",
    "            \n",
    "        xplot[istep] = r[0]    # record trajectory for each plot\n",
    "        yplot[istep] = r[1]\n",
    "        t = istep * tau        # current time\n",
    "        xNoAir[istep] = r0[0] + v0[0] * t\n",
    "        yNoAir[istep] = r0[1] + v0[1] * t - 0.5 * grav * t**2\n",
    "        \n",
    "        # calculate acceleration\n",
    "        accel = air_const * np.linalg.norm(v) * v   # air resistance\n",
    "        accel[1] -= grav                            # gravity\n",
    "        \n",
    "        # Calculate new position and velocity using Euler method\n",
    "        r = r + tau * v          # Euler step\n",
    "        v = v + tau * accel\n",
    "        \n",
    "        # If ball reaches ground (y < 0), break out of loop\n",
    "        if r[1] < 0:\n",
    "            laststep = istep + 1\n",
    "            xplot[laststep] = r[0]   # record last values\n",
    "            yplot[laststep] = r[1]\n",
    "            break\n",
    "    \n",
    "    # Interpolate to find true (corrected) range based on where the last point closest to the \n",
    "    # ground, i.e. the last positive y value\n",
    "    x, y, interp_range = interp(xplot[laststep-3:laststep+1], yplot[laststep-3:laststep+1])\n",
    "    \n",
    "    # Print max range and time of flight\n",
    "    print(f'Corrected range is {interp_range[0]:.2f} meters')\n",
    "    print(f'Simple range is {r[0]:.2f} meters')\n",
    "    print(f'Time of flight is {laststep*tau:.1f} seconds')\n",
    "    \n",
    "    ## Graph the trajectory\n",
    "    # Mark the location of the ground by a straight line\n",
    "    xground = np.array([0., xNoAir[laststep-1]])\n",
    "    yground = np.array([0., 0.])\n",
    "    \n",
    "    # plot the computed trajectory with no air\n",
    "    plt.plot(xplot[0:laststep+1], yplot[0:laststep+1], '+', label='Euler Method')\n",
    "    plt.plot(xNoAir[0:laststep], yNoAir[0:laststep], '-', label='Theory (no air)')\n",
    "    plt.plot(xground, yground, 'r-')\n",
    "    #plt.plot(x, y, 'b--', label='Interpolation')\n",
    "    plt.legend()\n",
    "    plt.xlabel('Range (m)')\n",
    "    plt.ylabel('Height (m)')\n",
    "    plt.title('Projectile motion')\n",
    "    plt.show()"
   ]
  },
  {
   "cell_type": "code",
   "execution_count": 117,
   "metadata": {},
   "outputs": [
    {
     "name": "stdin",
     "output_type": "stream",
     "text": [
      "Enter initial height (meters):  1\n",
      "Enter initial speed (m/s):  50\n",
      "Enter initial angle (degrees):  45\n",
      "Air resistance? (Yes: 1, No: 0) 1\n",
      "Enter time step (sec):  0.1\n"
     ]
    },
    {
     "name": "stdout",
     "output_type": "stream",
     "text": [
      "Corrected range is 120.50 meters\n",
      "Simple range is 121.06 meters\n",
      "Time of flight is 6.0 seconds\n"
     ]
    },
    {
     "data": {
      "image/png": "[encoded data removed]",
      "text/plain": [
       "<Figure size 432x288 with 1 Axes>"
      ]
     },
     "metadata": {
      "needs_background": "light"
     },
     "output_type": "display_data"
    }
   ],
   "source": [
    "balle()"
   ]
  },
  {
   "cell_type": "markdown",
   "metadata": {},
   "source": [
    "We now want to make a correction to the program. The _balle_ function will overestimate the range, since it chooses the final iteration as the range, which is at y < 0. Instead, we will modify the linear interpolation function from the previous chapter, and have it return the x value where y = 0."
   ]
  },
  {
   "cell_type": "code",
   "execution_count": 91,
   "metadata": {},
   "outputs": [],
   "source": [
    "def interp(x, y):\n",
    "    ''' Function to perform quadratic interpolation on a set of 3 data points'''\n",
    "    import matplotlib.pyplot as plt\n",
    "    xmin = x[0]\n",
    "    xmax = x[-1]\n",
    "    \n",
    "    xi = np.linspace(xmin, xmax, 100)\n",
    "    \n",
    "    yi = ((xi - x[1])*(xi - x[2]))/((x[0] - x[1])*(x[0] - x[2])) * y[0] + \\\n",
    "         ((xi - x[0])*(xi - x[2]))/((x[1] - x[0])*(x[1] - x[2])) * y[1] + \\\n",
    "         ((xi - x[0])*(xi - x[1]))/((x[2] - x[0])*(x[2] - x[1])) * y[2]\n",
    "    \n",
    "#     plt.plot(x, y, '*', label='Given points')\n",
    "#     plt.plot(xi, yi, '--', label='interpolation')\n",
    "#     plt.legend()\n",
    "\n",
    "    y_ = yi[yi > 0]\n",
    "    ymin = min(y_)\n",
    "    \n",
    "    return x, y, xi[yi==ymin]"
   ]
  },
  {
   "cell_type": "code",
   "execution_count": 111,
   "metadata": {},
   "outputs": [],
   "source": [
    "def interp_Cd(x, y, target):\n",
    "    ''' Function to perform quadratic interpolation on a set of 3 data points'''\n",
    "    \n",
    "    xmin = x[0]\n",
    "    xmax = x[-1]\n",
    "    \n",
    "    xi = np.linspace(xmin, xmax, 100)\n",
    "    \n",
    "    yi = ((xi - x[1])*(xi - x[2]))/((x[0] - x[1])*(x[0] - x[2])) * y[0] + \\\n",
    "         ((xi - x[0])*(xi - x[2]))/((x[1] - x[0])*(x[1] - x[2])) * y[1] + \\\n",
    "         ((xi - x[0])*(xi - x[1]))/((x[2] - x[0])*(x[2] - x[1])) * y[2]\n",
    "    \n",
    "    return yi[abs(xi - target).argmin()]"
   ]
  },
  {
   "cell_type": "code",
   "execution_count": 63,
   "metadata": {},
   "outputs": [],
   "source": [
    "x = np.array([1, 2, 3])\n",
    "y = np.array([9, 7, 3])"
   ]
  },
  {
   "cell_type": "code",
   "execution_count": 65,
   "metadata": {},
   "outputs": [
    {
     "data": {
      "image/png": "[encoded data removed]",
      "text/plain": [
       "<Figure size 432x288 with 1 Axes>"
      ]
     },
     "metadata": {
      "needs_background": "light"
     },
     "output_type": "display_data"
    }
   ],
   "source": [
    "ans = interp(x, y)"
   ]
  },
  {
   "cell_type": "markdown",
   "metadata": {},
   "source": [
    "The balle function above was ultimately update to include a dynamic drag coefficient, and to interpolate the last three position updates to find the range that represents the closest point that the ball gets to the ground without actually having a negative y value. Using the final point overestimates the range, which you see in the corrected vs simple ranges that are printed out.\n",
    "\n",
    "Below is an implementation of the Euler-Cromer update step instead of the Euler step. The only difference is reversing the order that the position and velocity get updated in. In Euler-Cromer, the velocity is updated first, and then the position is updated using the updated velocity. For the same initial conditions (1m height, 50 m/s speed, 45 degree angle, 0.1 sec time interval), the Euler-Cromer results were about 5 meters shorter than the Euler results. "
   ]
  },
  {
   "cell_type": "code",
   "execution_count": 123,
   "metadata": {},
   "outputs": [],
   "source": [
    "def balle_EulerCromer():\n",
    "    import numpy as np\n",
    "    import matplotlib.pyplot as plt\n",
    "    \n",
    "    ## Set initial position and velocity of the baseball\n",
    "    y0 = float(input('Enter initial height (meters): '))\n",
    "    r0 = np.array([0, y0]) # initial position vector\n",
    "    speed = float(input('Enter initial speed (m/s): '))\n",
    "    theta = float(input('Enter initial angle (degrees): '))\n",
    "    v0 = np.array([speed * np.cos(theta*np.pi/180), \n",
    "                  speed * np.sin(theta*np.pi/180)]) # vector components of speed\n",
    "    r = np.copy(r0)\n",
    "    v = np.copy(v0)\n",
    "    \n",
    "    ## Set physical parameters\n",
    "    #Cd = 0.35          # drag coefficient\n",
    "    area = 4.3e-3      # cross-sectional area (m^2)\n",
    "    grav = 9.81        # gravitational acceleration (m/s^2)\n",
    "    mass = .145       # mass of projectile (kg)\n",
    "    airFlag = int(input('Air resistance? (Yes: 1, No: 0)'))\n",
    "    if airFlag:\n",
    "        rho = 1.2      # density of air (kg/m^3)\n",
    "    else:\n",
    "        rho = 0\n",
    "    \n",
    "    ## Loop until ball hits the ground or max steps completed\n",
    "    tau = float(input('Enter time step (sec): '))    # time step (sec)\n",
    "    maxstep = 1000      # max number of time steps\n",
    "    xplot = np.empty(maxstep)\n",
    "    yplot = np.empty(maxstep)\n",
    "    xNoAir = np.empty(maxstep)\n",
    "    yNoAir = np.empty(maxstep)\n",
    "    \n",
    "    for istep in range(maxstep):\n",
    "        # Interpolate Cd based on speed\n",
    "        speed = np.linalg.norm(v)\n",
    "        if speed <= 22.4:\n",
    "            Cd = 0.5\n",
    "        elif speed > 22.4 and speed <= 44.7:\n",
    "            v_interp = np.array([22.4, 33.5, 44.7])\n",
    "            Cd_interp = np.array([0.5, 0.4, 0.28])\n",
    "            Cd = interp_Cd(v_interp, Cd_interp, speed)\n",
    "        else:\n",
    "            v_interp = np.array([33.5, 44.7, 55.9])\n",
    "            Cd_interp = np.array([0.4, 0.28, 0.23])\n",
    "            Cd = interp_Cd(v_interp, Cd_interp, speed)\n",
    "            \n",
    "        \n",
    "        air_const = -0.5 * Cd * rho * area / mass  # air resistance constant based on Cd\n",
    "            \n",
    "        xplot[istep] = r[0]    # record trajectory for each plot\n",
    "        yplot[istep] = r[1]\n",
    "        t = istep * tau        # current time\n",
    "        xNoAir[istep] = r0[0] + v0[0] * t\n",
    "        yNoAir[istep] = r0[1] + v0[1] * t - 0.5 * grav * t**2\n",
    "        \n",
    "        # calculate acceleration\n",
    "        accel = air_const * np.linalg.norm(v) * v   # air resistance\n",
    "        accel[1] -= grav                            # gravity\n",
    "        \n",
    "        # Calculate new position and velocity using Euler method\n",
    "        v = v + tau * accel\n",
    "        r = r + tau * v      # Euler-Cromer step\n",
    "        # If ball reaches ground (y < 0), break out of loop\n",
    "        if r[1] < 0:\n",
    "            laststep = istep + 1\n",
    "            xplot[laststep] = r[0]   # record last values\n",
    "            yplot[laststep] = r[1]\n",
    "            break\n",
    "        \n",
    "        # Interpolate to find true (corrected) range based on where the last point closest to the \n",
    "    # ground, i.e. the last positive y value\n",
    "    x, y, interp_range = interp(xplot[laststep-3:laststep+1], yplot[laststep-3:laststep+1])\n",
    "    \n",
    "    # Print max range and time of flight\n",
    "    print(f'Corrected range is {interp_range[0]:.2f} meters')\n",
    "    print(f'Simple range is {r[0]:.2f} meters')\n",
    "    print(f'Time of flight is {laststep*tau:.1f} seconds')\n",
    "    \n",
    "    ## Graph the trajectory\n",
    "    # Mark the location of the ground by a straight line\n",
    "    xground = np.array([0., xNoAir[laststep-1]])\n",
    "    yground = np.array([0., 0.])\n",
    "    \n",
    "    # plot the computed trajectory with no air\n",
    "    plt.plot(xplot[0:laststep+1], yplot[0:laststep+1], '+', label='Euler-Cromer Method')\n",
    "    plt.plot(xNoAir[0:laststep], yNoAir[0:laststep], '-', label='Theory (no air)')\n",
    "    plt.plot(xground, yground, 'r-')\n",
    "    #plt.plot(x, y, 'b--', label='Interpolation')\n",
    "    plt.legend()\n",
    "    plt.xlabel('Range (m)')\n",
    "    plt.ylabel('Height (m)')\n",
    "    plt.title('Projectile motion')\n",
    "    plt.show()"
   ]
  },
  {
   "cell_type": "code",
   "execution_count": 124,
   "metadata": {},
   "outputs": [
    {
     "name": "stdin",
     "output_type": "stream",
     "text": [
      "Enter initial height (meters):  1\n",
      "Enter initial speed (m/s):  50\n",
      "Enter initial angle (degrees):  45\n",
      "Air resistance? (Yes: 1, No: 0) 1\n",
      "Enter time step (sec):  0.1\n"
     ]
    },
    {
     "name": "stdout",
     "output_type": "stream",
     "text": [
      "Corrected range is 115.33 meters\n",
      "Simple range is 115.37 meters\n",
      "Time of flight is 5.7 seconds\n"
     ]
    },
    {
     "data": {
      "image/png": "[encoded data removed]",
      "text/plain": [
       "<Figure size 432x288 with 1 Axes>"
      ]
     },
     "metadata": {
      "needs_background": "light"
     },
     "output_type": "display_data"
    }
   ],
   "source": [
    "balle_EulerCromer()"
   ]
  },
  {
   "cell_type": "markdown",
   "metadata": {},
   "source": [
    "# Simple Pendulum\n",
    "\n",
    "The equation of motion for a pendulum can be derived from the equation for torque, which is equal to the moment of inertia multiplied by the angular acceleration:\n",
    "\n",
    "$$ \\tau = I\\alpha $$\n",
    "\n",
    "The torque is given by the length of the pendulum $L$ multiplied by the component of force perpenducular to the pendulum arm. For gravitational forces only, that component is $mgsin\\theta$. Therefore, the equation of motion for a simple pendulum is:\n",
    "\n",
    "$$ \\frac{d^2\\theta}{dt^2} = -\\frac{g}{L}sin\\theta $$"
   ]
  },
  {
   "cell_type": "code",
   "execution_count": null,
   "metadata": {},
   "outputs": [],
   "source": []
  }
 ],
 "metadata": {
  "kernelspec": {
   "display_name": "Python 3",
   "language": "python",
   "name": "python3"
  },
  "language_info": {
   "codemirror_mode": {
    "name": "ipython",
    "version": 3
   },
   "file_extension": ".py",
   "mimetype": "text/x-python",
   "name": "python",
   "nbconvert_exporter": "python",
   "pygments_lexer": "ipython3",
   "version": "3.7.4"
  }
 },
 "nbformat": 4,
 "nbformat_minor": 4
}
