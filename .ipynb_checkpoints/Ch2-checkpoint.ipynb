{
 "cells": [
  {
   "cell_type": "markdown",
   "metadata": {},
   "source": [
    "# Projectile Motion\n",
    "\n",
    "This section will look at solving the projectile motion of a baseball. Without air resistance, the problem can be solved with elementary physics. With air resistance, however, we must resort to numerical methods. \n",
    "\n",
    "The equation of motion for the baseball is:\n",
    "\n",
    "$$ \\frac{dv}{dt} = \\frac{1}{m}F_a(v) - g\\hat y $$\n",
    "\n",
    "The force of air resistance is a function of the velocity. The last term is the gravitational acceleration multiplied by the unit vector in the y-direction. The force from air resistance is often approximated as:\n",
    "\n",
    "$$ F_a = -\\frac{1}{2}C_d\\rho A |v|v $$\n",
    "\n",
    "The drag coefficient of a baseball is dependent on its Reynolds number. Its drag coefficient is also typically lower than that of a smooth sphere because the stitching disrupts laminar flow around the ball, precipitating the onset of turbulence. At low Reynolds numbers, the drag coefficient is dependent on the Re itself. At higher Re, vortex shedding maintains a nearly constant drag coefficient of about 0.5. At the critical Re (approximately $3x10^{5}$ for a smooth sphere), turbulent flow disrupts the low pressure region in the wake behind the sphere.\n",
    "\n",
    "A baseball's mass and diameter are 0.145 kg and 7.4 cm.\n",
    "\n",
    "## Forward Derivative\n",
    "\n",
    "Performing the numerical analysis requires computation of the derivative. The derivative is defined as:\n",
    "\n",
    "$$ f'(x) = \\lim_{\\tau \\to 0} \\frac{f(t + \\tau) - f(t)}{\\tau} $$\n",
    "\n",
    "A special version of a Taylor expansion can be used where:\n",
    "\n",
    "$$ f(t + \\tau) = f(t) + \\tau f'(t) + \\frac{\\tau^2}{2}f''(\\zeta) $$\n",
    "\n",
    "Where $\\zeta$ is a value between $t$ and $t + \\tau$. The above expression can be rewritten as:\n",
    "\n",
    "$$ f'(t) = \\frac{f(t + \\tau) - f(t)}{\\tau} - \\frac{1}{2}\\tau f''(\\zeta) $$\n",
    "\n",
    "The last term is the truncation error. If the term is kept, the expression for $f'(t)$ is exact. But, we can't compute that term, because we don't know what $\\zeta$ is. But, we can bound the error, because we know the limits: $\\zeta$ is somewhere between $t$ and $t + \\tau$.\n",
    "\n",
    "## Euler's Method\n",
    "\n",
    "The equations of motion to be solved, generally, are:\n",
    "\n",
    "$$\\frac{dv}{dt} = a(r, v); \\frac{dr}{dt} = v $$\n",
    "\n",
    "In projectile motion, the acceleration is only a function of $v$ because of air resistance. In later sections, such as the motions of comets, acceleration will also be a function of position.\n",
    "\n",
    "Using the forward derivative, the equations of motion are:\n",
    "\n",
    "$$ \\frac{v(t + \\tau) - v(t)}{\\tau} + O(\\tau) = a(r(t), v(t)) $$\n",
    "\n",
    "$$ \\frac{r(t + \\tau) - r(t)}{\\tau} + O(\\tau) = v(t) $$\n",
    "\n",
    "Which, when rearranged, evaluate to:\n",
    "\n",
    "$$ v(t + \\tau) = v(t) + \\tau a(r(t), v(t)) + O(\\tau^2) $$\n",
    "\n",
    "$$ r(t + \\tau) = r(t) + \\tau v(t) + O(\\tau^2) $$\n",
    "\n",
    "How is Euler's method implemented in practice?"
   ]
  },
  {
   "cell_type": "code",
   "execution_count": null,
   "metadata": {},
   "outputs": [],
   "source": []
  }
 ],
 "metadata": {
  "kernelspec": {
   "display_name": "Python 3",
   "language": "python",
   "name": "python3"
  },
  "language_info": {
   "codemirror_mode": {
    "name": "ipython",
    "version": 3
   },
   "file_extension": ".py",
   "mimetype": "text/x-python",
   "name": "python",
   "nbconvert_exporter": "python",
   "pygments_lexer": "ipython3",
   "version": "3.7.6"
  }
 },
 "nbformat": 4,
 "nbformat_minor": 4
}
